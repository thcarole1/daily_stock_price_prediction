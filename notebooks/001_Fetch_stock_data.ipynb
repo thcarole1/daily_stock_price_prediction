{
 "cells": [
  {
   "cell_type": "markdown",
   "id": "8efb4b75",
   "metadata": {},
   "source": [
    "# Fetch stock data\n",
    "\n",
    "\n"
   ]
  },
  {
   "cell_type": "markdown",
   "id": "57be7061",
   "metadata": {},
   "source": [
    "**Context**: This notebook must describe how to fetch stock data from yFinance.\n",
    "\n"
   ]
  },
  {
   "cell_type": "markdown",
   "id": "4f64375b",
   "metadata": {},
   "source": [
    "# Imports\n"
   ]
  },
  {
   "cell_type": "code",
   "execution_count": 1,
   "id": "46566485",
   "metadata": {},
   "outputs": [],
   "source": [
    "import yfinance as yf\n",
    "import pandas as pd"
   ]
  },
  {
   "cell_type": "markdown",
   "id": "ce40f597",
   "metadata": {},
   "source": [
    "# Fetching stock data\n"
   ]
  },
  {
   "cell_type": "code",
   "execution_count": 2,
   "id": "8d5da3a6",
   "metadata": {},
   "outputs": [],
   "source": [
    "def fetch_stock_data(ticker:str, path:str) -> pd.DataFrame:\n",
    "    '''\n",
    "    This function receives a ticker (string) and a path (string) indicating where to save the stock data locally.\n",
    "    - It downloads the stock data based on ticker input from yfinance API (period : 2 years, interval : each day).\n",
    "    - It converts multi-indexed columns to unique column names.\n",
    "    - It then stores this data locally to path.\n",
    "    - It returns the stock data as a Pandas Dataframe.\n",
    "    '''\n",
    "    stock = yf.download(ticker, period=\"2y\", interval=\"1d\")  # Fetch last 2 years\n",
    "    stock.columns =['_'.join(col).strip() for col in stock.columns.to_flat_index()]\n",
    "    stock.to_csv(path, index_label='Date')  # Save locally\n",
    "    return stock"
   ]
  },
  {
   "cell_type": "code",
   "execution_count": 3,
   "id": "8caf744f",
   "metadata": {
    "scrolled": true
   },
   "outputs": [
    {
     "name": "stderr",
     "output_type": "stream",
     "text": [
      "[*********************100%***********************]  1 of 1 completed\n"
     ]
    },
    {
     "data": {
      "text/html": [
       "<div>\n",
       "<style scoped>\n",
       "    .dataframe tbody tr th:only-of-type {\n",
       "        vertical-align: middle;\n",
       "    }\n",
       "\n",
       "    .dataframe tbody tr th {\n",
       "        vertical-align: top;\n",
       "    }\n",
       "\n",
       "    .dataframe thead th {\n",
       "        text-align: right;\n",
       "    }\n",
       "</style>\n",
       "<table border=\"1\" class=\"dataframe\">\n",
       "  <thead>\n",
       "    <tr style=\"text-align: right;\">\n",
       "      <th></th>\n",
       "      <th>Close_AAPL</th>\n",
       "      <th>High_AAPL</th>\n",
       "      <th>Low_AAPL</th>\n",
       "      <th>Open_AAPL</th>\n",
       "      <th>Volume_AAPL</th>\n",
       "    </tr>\n",
       "    <tr>\n",
       "      <th>Date</th>\n",
       "      <th></th>\n",
       "      <th></th>\n",
       "      <th></th>\n",
       "      <th></th>\n",
       "      <th></th>\n",
       "    </tr>\n",
       "  </thead>\n",
       "  <tbody>\n",
       "    <tr>\n",
       "      <th>2023-02-14</th>\n",
       "      <td>151.670441</td>\n",
       "      <td>152.234757</td>\n",
       "      <td>149.353807</td>\n",
       "      <td>150.601222</td>\n",
       "      <td>61707600</td>\n",
       "    </tr>\n",
       "    <tr>\n",
       "      <th>2023-02-15</th>\n",
       "      <td>153.779190</td>\n",
       "      <td>153.947491</td>\n",
       "      <td>151.353654</td>\n",
       "      <td>151.581353</td>\n",
       "      <td>65573800</td>\n",
       "    </tr>\n",
       "    <tr>\n",
       "      <th>2023-02-16</th>\n",
       "      <td>152.175339</td>\n",
       "      <td>154.769175</td>\n",
       "      <td>151.818932</td>\n",
       "      <td>151.977323</td>\n",
       "      <td>68167900</td>\n",
       "    </tr>\n",
       "    <tr>\n",
       "      <th>2023-02-17</th>\n",
       "      <td>151.026932</td>\n",
       "      <td>151.472436</td>\n",
       "      <td>149.343908</td>\n",
       "      <td>150.828932</td>\n",
       "      <td>59144100</td>\n",
       "    </tr>\n",
       "    <tr>\n",
       "      <th>2023-02-21</th>\n",
       "      <td>146.997559</td>\n",
       "      <td>149.789411</td>\n",
       "      <td>146.928265</td>\n",
       "      <td>148.700387</td>\n",
       "      <td>58867200</td>\n",
       "    </tr>\n",
       "    <tr>\n",
       "      <th>...</th>\n",
       "      <td>...</td>\n",
       "      <td>...</td>\n",
       "      <td>...</td>\n",
       "      <td>...</td>\n",
       "      <td>...</td>\n",
       "    </tr>\n",
       "    <tr>\n",
       "      <th>2025-02-10</th>\n",
       "      <td>227.649994</td>\n",
       "      <td>230.589996</td>\n",
       "      <td>227.199997</td>\n",
       "      <td>229.570007</td>\n",
       "      <td>33115600</td>\n",
       "    </tr>\n",
       "    <tr>\n",
       "      <th>2025-02-11</th>\n",
       "      <td>232.619995</td>\n",
       "      <td>235.229996</td>\n",
       "      <td>228.130005</td>\n",
       "      <td>228.199997</td>\n",
       "      <td>53718400</td>\n",
       "    </tr>\n",
       "    <tr>\n",
       "      <th>2025-02-12</th>\n",
       "      <td>236.869995</td>\n",
       "      <td>236.960007</td>\n",
       "      <td>230.679993</td>\n",
       "      <td>231.199997</td>\n",
       "      <td>45243300</td>\n",
       "    </tr>\n",
       "    <tr>\n",
       "      <th>2025-02-13</th>\n",
       "      <td>241.529999</td>\n",
       "      <td>242.339996</td>\n",
       "      <td>235.570007</td>\n",
       "      <td>236.910004</td>\n",
       "      <td>53543300</td>\n",
       "    </tr>\n",
       "    <tr>\n",
       "      <th>2025-02-14</th>\n",
       "      <td>243.955002</td>\n",
       "      <td>245.050003</td>\n",
       "      <td>241.000000</td>\n",
       "      <td>241.070007</td>\n",
       "      <td>19060594</td>\n",
       "    </tr>\n",
       "  </tbody>\n",
       "</table>\n",
       "<p>503 rows × 5 columns</p>\n",
       "</div>"
      ],
      "text/plain": [
       "            Close_AAPL   High_AAPL    Low_AAPL   Open_AAPL  Volume_AAPL\n",
       "Date                                                                   \n",
       "2023-02-14  151.670441  152.234757  149.353807  150.601222     61707600\n",
       "2023-02-15  153.779190  153.947491  151.353654  151.581353     65573800\n",
       "2023-02-16  152.175339  154.769175  151.818932  151.977323     68167900\n",
       "2023-02-17  151.026932  151.472436  149.343908  150.828932     59144100\n",
       "2023-02-21  146.997559  149.789411  146.928265  148.700387     58867200\n",
       "...                ...         ...         ...         ...          ...\n",
       "2025-02-10  227.649994  230.589996  227.199997  229.570007     33115600\n",
       "2025-02-11  232.619995  235.229996  228.130005  228.199997     53718400\n",
       "2025-02-12  236.869995  236.960007  230.679993  231.199997     45243300\n",
       "2025-02-13  241.529999  242.339996  235.570007  236.910004     53543300\n",
       "2025-02-14  243.955002  245.050003  241.000000  241.070007     19060594\n",
       "\n",
       "[503 rows x 5 columns]"
      ]
     },
     "execution_count": 3,
     "metadata": {},
     "output_type": "execute_result"
    }
   ],
   "source": [
    "# Retrieve stock data based on ticker and store it locally\n",
    "ticker='AAPL'\n",
    "path_ticker = f\"../data/raw_data/{ticker}.csv\"\n",
    "df = fetch_stock_data(ticker, path_ticker)\n",
    "df"
   ]
  }
 ],
 "metadata": {
  "kernelspec": {
   "display_name": "Python 3 (ipykernel)",
   "language": "python",
   "name": "python3"
  },
  "language_info": {
   "codemirror_mode": {
    "name": "ipython",
    "version": 3
   },
   "file_extension": ".py",
   "mimetype": "text/x-python",
   "name": "python",
   "nbconvert_exporter": "python",
   "pygments_lexer": "ipython3",
   "version": "3.10.6"
  },
  "toc": {
   "base_numbering": 1,
   "nav_menu": {},
   "number_sections": true,
   "sideBar": true,
   "skip_h1_title": false,
   "title_cell": "Table of Contents",
   "title_sidebar": "Contents",
   "toc_cell": false,
   "toc_position": {},
   "toc_section_display": true,
   "toc_window_display": true
  },
  "varInspector": {
   "cols": {
    "lenName": 16,
    "lenType": 16,
    "lenVar": 40
   },
   "kernels_config": {
    "python": {
     "delete_cmd_postfix": "",
     "delete_cmd_prefix": "del ",
     "library": "var_list.py",
     "varRefreshCmd": "print(var_dic_list())"
    },
    "r": {
     "delete_cmd_postfix": ") ",
     "delete_cmd_prefix": "rm(",
     "library": "var_list.r",
     "varRefreshCmd": "cat(var_dic_list()) "
    }
   },
   "types_to_exclude": [
    "module",
    "function",
    "builtin_function_or_method",
    "instance",
    "_Feature"
   ],
   "window_display": false
  }
 },
 "nbformat": 4,
 "nbformat_minor": 5
}
