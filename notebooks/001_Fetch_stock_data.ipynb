{
 "cells": [
  {
   "cell_type": "markdown",
   "id": "8efb4b75",
   "metadata": {},
   "source": [
    "# Fetch stock data\n",
    "\n",
    "\n"
   ]
  },
  {
   "cell_type": "markdown",
   "id": "57be7061",
   "metadata": {},
   "source": [
    "**Context**: This notebook must describe how to fetch stock data from yFinance.\n",
    "\n"
   ]
  },
  {
   "cell_type": "markdown",
   "id": "4f64375b",
   "metadata": {},
   "source": [
    "# Imports\n"
   ]
  },
  {
   "cell_type": "code",
   "execution_count": 1,
   "id": "46566485",
   "metadata": {},
   "outputs": [],
   "source": [
    "import yfinance as yf\n",
    "import pandas as pd"
   ]
  },
  {
   "cell_type": "markdown",
   "id": "ce40f597",
   "metadata": {},
   "source": [
    "# Fetching stock data\n"
   ]
  },
  {
   "cell_type": "code",
   "execution_count": 2,
   "id": "8d5da3a6",
   "metadata": {},
   "outputs": [],
   "source": [
    "def fetch_stock_data(ticker:str, path:str) -> pd.DataFrame:\n",
    "    '''\n",
    "    This function receives a ticker (string) and a path (string) indicating where to save the stock data locally.\n",
    "    - It downloads the stock data based on ticker input from yfinance API (period : 2 years, interval : each day).\n",
    "    - It converts multi-indexed columns to unique column names.\n",
    "    - It then stores this data locally to path.\n",
    "    - It returns the stock data as a Pandas Dataframe.\n",
    "    '''\n",
    "    stock = yf.download(ticker, period=\"5y\", interval=\"1d\")  # Fetch last 2 years\n",
    "    stock.columns =['_'.join(col).strip() for col in stock.columns.to_flat_index()]\n",
    "    stock.to_csv(path, index_label='Date')  # Save locally\n",
    "    return stock"
   ]
  },
  {
   "cell_type": "code",
   "execution_count": 3,
   "id": "8caf744f",
   "metadata": {
    "scrolled": true
   },
   "outputs": [
    {
     "name": "stderr",
     "output_type": "stream",
     "text": [
      "[*********************100%***********************]  1 of 1 completed\n"
     ]
    },
    {
     "data": {
      "text/html": [
       "<div>\n",
       "<style scoped>\n",
       "    .dataframe tbody tr th:only-of-type {\n",
       "        vertical-align: middle;\n",
       "    }\n",
       "\n",
       "    .dataframe tbody tr th {\n",
       "        vertical-align: top;\n",
       "    }\n",
       "\n",
       "    .dataframe thead th {\n",
       "        text-align: right;\n",
       "    }\n",
       "</style>\n",
       "<table border=\"1\" class=\"dataframe\">\n",
       "  <thead>\n",
       "    <tr style=\"text-align: right;\">\n",
       "      <th></th>\n",
       "      <th>Close_STLA</th>\n",
       "      <th>High_STLA</th>\n",
       "      <th>Low_STLA</th>\n",
       "      <th>Open_STLA</th>\n",
       "      <th>Volume_STLA</th>\n",
       "    </tr>\n",
       "    <tr>\n",
       "      <th>Date</th>\n",
       "      <th></th>\n",
       "      <th></th>\n",
       "      <th></th>\n",
       "      <th></th>\n",
       "      <th></th>\n",
       "    </tr>\n",
       "  </thead>\n",
       "  <tbody>\n",
       "    <tr>\n",
       "      <th>2020-02-18</th>\n",
       "      <td>8.899256</td>\n",
       "      <td>8.946556</td>\n",
       "      <td>8.872227</td>\n",
       "      <td>8.912770</td>\n",
       "      <td>2076800</td>\n",
       "    </tr>\n",
       "    <tr>\n",
       "      <th>2020-02-19</th>\n",
       "      <td>8.926286</td>\n",
       "      <td>8.966829</td>\n",
       "      <td>8.919528</td>\n",
       "      <td>8.933043</td>\n",
       "      <td>1683500</td>\n",
       "    </tr>\n",
       "    <tr>\n",
       "      <th>2020-02-20</th>\n",
       "      <td>8.987102</td>\n",
       "      <td>9.027645</td>\n",
       "      <td>8.939801</td>\n",
       "      <td>8.966830</td>\n",
       "      <td>1655200</td>\n",
       "    </tr>\n",
       "    <tr>\n",
       "      <th>2020-02-21</th>\n",
       "      <td>8.851957</td>\n",
       "      <td>8.919529</td>\n",
       "      <td>8.811414</td>\n",
       "      <td>8.912772</td>\n",
       "      <td>1983900</td>\n",
       "    </tr>\n",
       "    <tr>\n",
       "      <th>2020-02-24</th>\n",
       "      <td>8.250564</td>\n",
       "      <td>8.351922</td>\n",
       "      <td>8.230292</td>\n",
       "      <td>8.284350</td>\n",
       "      <td>9285600</td>\n",
       "    </tr>\n",
       "    <tr>\n",
       "      <th>...</th>\n",
       "      <td>...</td>\n",
       "      <td>...</td>\n",
       "      <td>...</td>\n",
       "      <td>...</td>\n",
       "      <td>...</td>\n",
       "    </tr>\n",
       "    <tr>\n",
       "      <th>2025-02-11</th>\n",
       "      <td>13.090000</td>\n",
       "      <td>13.160000</td>\n",
       "      <td>13.030000</td>\n",
       "      <td>13.070000</td>\n",
       "      <td>7787000</td>\n",
       "    </tr>\n",
       "    <tr>\n",
       "      <th>2025-02-12</th>\n",
       "      <td>13.290000</td>\n",
       "      <td>13.340000</td>\n",
       "      <td>13.070000</td>\n",
       "      <td>13.100000</td>\n",
       "      <td>14089300</td>\n",
       "    </tr>\n",
       "    <tr>\n",
       "      <th>2025-02-13</th>\n",
       "      <td>13.530000</td>\n",
       "      <td>13.910000</td>\n",
       "      <td>13.060000</td>\n",
       "      <td>13.710000</td>\n",
       "      <td>24495700</td>\n",
       "    </tr>\n",
       "    <tr>\n",
       "      <th>2025-02-14</th>\n",
       "      <td>14.050000</td>\n",
       "      <td>14.190000</td>\n",
       "      <td>13.980000</td>\n",
       "      <td>14.030000</td>\n",
       "      <td>12555300</td>\n",
       "    </tr>\n",
       "    <tr>\n",
       "      <th>2025-02-18</th>\n",
       "      <td>14.149100</td>\n",
       "      <td>14.210000</td>\n",
       "      <td>14.100000</td>\n",
       "      <td>14.180000</td>\n",
       "      <td>3830381</td>\n",
       "    </tr>\n",
       "  </tbody>\n",
       "</table>\n",
       "<p>1258 rows × 5 columns</p>\n",
       "</div>"
      ],
      "text/plain": [
       "            Close_STLA  High_STLA   Low_STLA  Open_STLA  Volume_STLA\n",
       "Date                                                                \n",
       "2020-02-18    8.899256   8.946556   8.872227   8.912770      2076800\n",
       "2020-02-19    8.926286   8.966829   8.919528   8.933043      1683500\n",
       "2020-02-20    8.987102   9.027645   8.939801   8.966830      1655200\n",
       "2020-02-21    8.851957   8.919529   8.811414   8.912772      1983900\n",
       "2020-02-24    8.250564   8.351922   8.230292   8.284350      9285600\n",
       "...                ...        ...        ...        ...          ...\n",
       "2025-02-11   13.090000  13.160000  13.030000  13.070000      7787000\n",
       "2025-02-12   13.290000  13.340000  13.070000  13.100000     14089300\n",
       "2025-02-13   13.530000  13.910000  13.060000  13.710000     24495700\n",
       "2025-02-14   14.050000  14.190000  13.980000  14.030000     12555300\n",
       "2025-02-18   14.149100  14.210000  14.100000  14.180000      3830381\n",
       "\n",
       "[1258 rows x 5 columns]"
      ]
     },
     "execution_count": 3,
     "metadata": {},
     "output_type": "execute_result"
    }
   ],
   "source": [
    "# Retrieve stock data based on ticker and store it locally\n",
    "ticker='AAPL'\n",
    "path_ticker = f\"../data/raw_data/{ticker}.csv\"\n",
    "df = fetch_stock_data(ticker, path_ticker)\n",
    "df"
   ]
  }
 ],
 "metadata": {
  "kernelspec": {
   "display_name": "Python 3 (ipykernel)",
   "language": "python",
   "name": "python3"
  },
  "language_info": {
   "codemirror_mode": {
    "name": "ipython",
    "version": 3
   },
   "file_extension": ".py",
   "mimetype": "text/x-python",
   "name": "python",
   "nbconvert_exporter": "python",
   "pygments_lexer": "ipython3",
   "version": "3.10.6"
  },
  "toc": {
   "base_numbering": 1,
   "nav_menu": {},
   "number_sections": true,
   "sideBar": true,
   "skip_h1_title": false,
   "title_cell": "Table of Contents",
   "title_sidebar": "Contents",
   "toc_cell": false,
   "toc_position": {},
   "toc_section_display": true,
   "toc_window_display": true
  },
  "varInspector": {
   "cols": {
    "lenName": 16,
    "lenType": 16,
    "lenVar": 40
   },
   "kernels_config": {
    "python": {
     "delete_cmd_postfix": "",
     "delete_cmd_prefix": "del ",
     "library": "var_list.py",
     "varRefreshCmd": "print(var_dic_list())"
    },
    "r": {
     "delete_cmd_postfix": ") ",
     "delete_cmd_prefix": "rm(",
     "library": "var_list.r",
     "varRefreshCmd": "cat(var_dic_list()) "
    }
   },
   "types_to_exclude": [
    "module",
    "function",
    "builtin_function_or_method",
    "instance",
    "_Feature"
   ],
   "window_display": false
  }
 },
 "nbformat": 4,
 "nbformat_minor": 5
}
