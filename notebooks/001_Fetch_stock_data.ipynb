{
 "cells": [
  {
   "cell_type": "markdown",
   "id": "8efb4b75",
   "metadata": {},
   "source": [
    "# Fetch stock data\n",
    "\n",
    "\n"
   ]
  },
  {
   "cell_type": "markdown",
   "id": "57be7061",
   "metadata": {},
   "source": [
    "**Context**: This notebook must describe how to fetch stock data from yFinance.\n",
    "\n"
   ]
  },
  {
   "cell_type": "markdown",
   "id": "4f64375b",
   "metadata": {},
   "source": [
    "# Imports\n"
   ]
  },
  {
   "cell_type": "code",
   "execution_count": 1,
   "id": "46566485",
   "metadata": {},
   "outputs": [],
   "source": [
    "import yfinance as yf\n",
    "import pandas as pd"
   ]
  },
  {
   "cell_type": "markdown",
   "id": "ce40f597",
   "metadata": {},
   "source": [
    "# Fetching stock data\n"
   ]
  },
  {
   "cell_type": "code",
   "execution_count": 2,
   "id": "8d5da3a6",
   "metadata": {},
   "outputs": [],
   "source": [
    "def fetch_stock_data(ticker:str, path:str) -> pd.DataFrame:\n",
    "    '''\n",
    "    This function receives a ticker (string) and a path (string) indicating where to save the stock data locally.\n",
    "    - It downloads the stock data based on ticker input from yfinance API (period : 2 years, interval : each day).\n",
    "    - It converts multi-indexed columns to unique column names.\n",
    "    - It then stores this data locally to path.\n",
    "    - It returns the stock data as a Pandas Dataframe.\n",
    "    '''\n",
    "    stock = yf.download(ticker, period=\"5y\", interval=\"1d\")  # Fetch last 2 years\n",
    "    stock.columns =['_'.join(col).strip() for col in stock.columns.to_flat_index()]\n",
    "    stock.to_csv(path, index_label='Date')  # Save locally\n",
    "    return stock"
   ]
  },
  {
   "cell_type": "code",
   "execution_count": 3,
   "id": "8caf744f",
   "metadata": {
    "scrolled": true
   },
   "outputs": [
    {
     "name": "stderr",
     "output_type": "stream",
     "text": [
      "[*********************100%***********************]  1 of 1 completed\n",
      "\n",
      "1 Failed download:\n",
      "['AAPL']: YFRateLimitError('Too Many Requests. Rate limited. Try after a while.')\n"
     ]
    },
    {
     "data": {
      "text/html": [
       "<div>\n",
       "<style scoped>\n",
       "    .dataframe tbody tr th:only-of-type {\n",
       "        vertical-align: middle;\n",
       "    }\n",
       "\n",
       "    .dataframe tbody tr th {\n",
       "        vertical-align: top;\n",
       "    }\n",
       "\n",
       "    .dataframe thead th {\n",
       "        text-align: right;\n",
       "    }\n",
       "</style>\n",
       "<table border=\"1\" class=\"dataframe\">\n",
       "  <thead>\n",
       "    <tr style=\"text-align: right;\">\n",
       "      <th></th>\n",
       "      <th>Adj Close_AAPL</th>\n",
       "      <th>Close_AAPL</th>\n",
       "      <th>High_AAPL</th>\n",
       "      <th>Low_AAPL</th>\n",
       "      <th>Open_AAPL</th>\n",
       "      <th>Volume_AAPL</th>\n",
       "    </tr>\n",
       "    <tr>\n",
       "      <th>Date</th>\n",
       "      <th></th>\n",
       "      <th></th>\n",
       "      <th></th>\n",
       "      <th></th>\n",
       "      <th></th>\n",
       "      <th></th>\n",
       "    </tr>\n",
       "  </thead>\n",
       "  <tbody>\n",
       "  </tbody>\n",
       "</table>\n",
       "</div>"
      ],
      "text/plain": [
       "Empty DataFrame\n",
       "Columns: [Adj Close_AAPL, Close_AAPL, High_AAPL, Low_AAPL, Open_AAPL, Volume_AAPL]\n",
       "Index: []"
      ]
     },
     "execution_count": 3,
     "metadata": {},
     "output_type": "execute_result"
    }
   ],
   "source": [
    "# Retrieve stock data based on ticker and store it locally\n",
    "ticker='AAPL'\n",
    "path_ticker = f\"../data/raw_data/{ticker}.csv\"\n",
    "df = fetch_stock_data(ticker, path_ticker)\n",
    "df"
   ]
  }
 ],
 "metadata": {
  "kernelspec": {
   "display_name": "Python 3 (ipykernel)",
   "language": "python",
   "name": "python3"
  },
  "language_info": {
   "codemirror_mode": {
    "name": "ipython",
    "version": 3
   },
   "file_extension": ".py",
   "mimetype": "text/x-python",
   "name": "python",
   "nbconvert_exporter": "python",
   "pygments_lexer": "ipython3",
   "version": "3.10.6"
  },
  "toc": {
   "base_numbering": 1,
   "nav_menu": {},
   "number_sections": true,
   "sideBar": true,
   "skip_h1_title": false,
   "title_cell": "Table of Contents",
   "title_sidebar": "Contents",
   "toc_cell": false,
   "toc_position": {},
   "toc_section_display": true,
   "toc_window_display": true
  },
  "varInspector": {
   "cols": {
    "lenName": 16,
    "lenType": 16,
    "lenVar": 40
   },
   "kernels_config": {
    "python": {
     "delete_cmd_postfix": "",
     "delete_cmd_prefix": "del ",
     "library": "var_list.py",
     "varRefreshCmd": "print(var_dic_list())"
    },
    "r": {
     "delete_cmd_postfix": ") ",
     "delete_cmd_prefix": "rm(",
     "library": "var_list.r",
     "varRefreshCmd": "cat(var_dic_list()) "
    }
   },
   "types_to_exclude": [
    "module",
    "function",
    "builtin_function_or_method",
    "instance",
    "_Feature"
   ],
   "window_display": false
  }
 },
 "nbformat": 4,
 "nbformat_minor": 5
}
