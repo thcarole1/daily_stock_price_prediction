{
 "cells": [
  {
   "cell_type": "markdown",
   "id": "8efb4b75",
   "metadata": {},
   "source": [
    "# Fetch stock data\n",
    "\n",
    "\n"
   ]
  },
  {
   "cell_type": "markdown",
   "id": "57be7061",
   "metadata": {},
   "source": [
    "**Context**: This notebook must describe how to fetch stock data from yFinance.\n",
    "\n"
   ]
  },
  {
   "cell_type": "markdown",
   "id": "4f64375b",
   "metadata": {},
   "source": [
    "# Imports\n"
   ]
  },
  {
   "cell_type": "code",
   "execution_count": 1,
   "id": "46566485",
   "metadata": {},
   "outputs": [],
   "source": [
    "import yfinance as yf\n",
    "import pandas as pd"
   ]
  },
  {
   "cell_type": "markdown",
   "id": "ce40f597",
   "metadata": {},
   "source": [
    "# Fetching stock data\n"
   ]
  },
  {
   "cell_type": "code",
   "execution_count": 2,
   "id": "8d5da3a6",
   "metadata": {},
   "outputs": [],
   "source": [
    "def fetch_stock_data(ticker:str, path:str) -> pd.DataFrame:\n",
    "    '''\n",
    "    This function receives a ticker (string) and a path (string) indicating where to save the stock data locally.\n",
    "    - It downloads the stock data based on ticker input from yfinance API (period : 2 years, interval : each day).\n",
    "    - It converts multi-indexed columns to unique column names.\n",
    "    - It then stores this data locally to path.\n",
    "    - It returns the stock data as a Pandas Dataframe.\n",
    "    '''\n",
    "    stock = yf.download(ticker, period=\"2y\", interval=\"1d\")  # Fetch last 2 years\n",
    "    stock.columns =['_'.join(col).strip() for col in stock.columns.to_flat_index()]\n",
    "    stock.to_csv(path, index_label='Date')  # Save locally\n",
    "    return stock"
   ]
  },
  {
   "cell_type": "code",
   "execution_count": 3,
   "id": "8caf744f",
   "metadata": {
    "scrolled": true
   },
   "outputs": [
    {
     "name": "stderr",
     "output_type": "stream",
     "text": [
      "[*********************100%***********************]  1 of 1 completed\n"
     ]
    },
    {
     "data": {
      "text/html": [
       "<div>\n",
       "<style scoped>\n",
       "    .dataframe tbody tr th:only-of-type {\n",
       "        vertical-align: middle;\n",
       "    }\n",
       "\n",
       "    .dataframe tbody tr th {\n",
       "        vertical-align: top;\n",
       "    }\n",
       "\n",
       "    .dataframe thead th {\n",
       "        text-align: right;\n",
       "    }\n",
       "</style>\n",
       "<table border=\"1\" class=\"dataframe\">\n",
       "  <thead>\n",
       "    <tr style=\"text-align: right;\">\n",
       "      <th></th>\n",
       "      <th>Close_STLA</th>\n",
       "      <th>High_STLA</th>\n",
       "      <th>Low_STLA</th>\n",
       "      <th>Open_STLA</th>\n",
       "      <th>Volume_STLA</th>\n",
       "    </tr>\n",
       "    <tr>\n",
       "      <th>Date</th>\n",
       "      <th></th>\n",
       "      <th></th>\n",
       "      <th></th>\n",
       "      <th></th>\n",
       "      <th></th>\n",
       "    </tr>\n",
       "  </thead>\n",
       "  <tbody>\n",
       "    <tr>\n",
       "      <th>2023-02-15</th>\n",
       "      <td>14.593234</td>\n",
       "      <td>14.644709</td>\n",
       "      <td>14.421649</td>\n",
       "      <td>14.421649</td>\n",
       "      <td>4086600</td>\n",
       "    </tr>\n",
       "    <tr>\n",
       "      <th>2023-02-16</th>\n",
       "      <td>14.533180</td>\n",
       "      <td>14.696184</td>\n",
       "      <td>14.438808</td>\n",
       "      <td>14.438808</td>\n",
       "      <td>4418800</td>\n",
       "    </tr>\n",
       "    <tr>\n",
       "      <th>2023-02-17</th>\n",
       "      <td>14.833453</td>\n",
       "      <td>14.833453</td>\n",
       "      <td>14.481704</td>\n",
       "      <td>14.567497</td>\n",
       "      <td>6618000</td>\n",
       "    </tr>\n",
       "    <tr>\n",
       "      <th>2023-02-21</th>\n",
       "      <td>14.292961</td>\n",
       "      <td>14.584654</td>\n",
       "      <td>14.284382</td>\n",
       "      <td>14.541759</td>\n",
       "      <td>6751000</td>\n",
       "    </tr>\n",
       "    <tr>\n",
       "      <th>2023-02-22</th>\n",
       "      <td>14.816294</td>\n",
       "      <td>15.013615</td>\n",
       "      <td>14.704763</td>\n",
       "      <td>14.704763</td>\n",
       "      <td>9501200</td>\n",
       "    </tr>\n",
       "    <tr>\n",
       "      <th>...</th>\n",
       "      <td>...</td>\n",
       "      <td>...</td>\n",
       "      <td>...</td>\n",
       "      <td>...</td>\n",
       "      <td>...</td>\n",
       "    </tr>\n",
       "    <tr>\n",
       "      <th>2025-02-10</th>\n",
       "      <td>12.970000</td>\n",
       "      <td>13.050000</td>\n",
       "      <td>12.920000</td>\n",
       "      <td>12.980000</td>\n",
       "      <td>5558700</td>\n",
       "    </tr>\n",
       "    <tr>\n",
       "      <th>2025-02-11</th>\n",
       "      <td>13.090000</td>\n",
       "      <td>13.160000</td>\n",
       "      <td>13.030000</td>\n",
       "      <td>13.070000</td>\n",
       "      <td>7787000</td>\n",
       "    </tr>\n",
       "    <tr>\n",
       "      <th>2025-02-12</th>\n",
       "      <td>13.290000</td>\n",
       "      <td>13.340000</td>\n",
       "      <td>13.070000</td>\n",
       "      <td>13.100000</td>\n",
       "      <td>14089300</td>\n",
       "    </tr>\n",
       "    <tr>\n",
       "      <th>2025-02-13</th>\n",
       "      <td>13.530000</td>\n",
       "      <td>13.910000</td>\n",
       "      <td>13.060000</td>\n",
       "      <td>13.710000</td>\n",
       "      <td>24495700</td>\n",
       "    </tr>\n",
       "    <tr>\n",
       "      <th>2025-02-14</th>\n",
       "      <td>14.050000</td>\n",
       "      <td>14.190000</td>\n",
       "      <td>13.980000</td>\n",
       "      <td>14.030000</td>\n",
       "      <td>12555300</td>\n",
       "    </tr>\n",
       "  </tbody>\n",
       "</table>\n",
       "<p>502 rows × 5 columns</p>\n",
       "</div>"
      ],
      "text/plain": [
       "            Close_STLA  High_STLA   Low_STLA  Open_STLA  Volume_STLA\n",
       "Date                                                                \n",
       "2023-02-15   14.593234  14.644709  14.421649  14.421649      4086600\n",
       "2023-02-16   14.533180  14.696184  14.438808  14.438808      4418800\n",
       "2023-02-17   14.833453  14.833453  14.481704  14.567497      6618000\n",
       "2023-02-21   14.292961  14.584654  14.284382  14.541759      6751000\n",
       "2023-02-22   14.816294  15.013615  14.704763  14.704763      9501200\n",
       "...                ...        ...        ...        ...          ...\n",
       "2025-02-10   12.970000  13.050000  12.920000  12.980000      5558700\n",
       "2025-02-11   13.090000  13.160000  13.030000  13.070000      7787000\n",
       "2025-02-12   13.290000  13.340000  13.070000  13.100000     14089300\n",
       "2025-02-13   13.530000  13.910000  13.060000  13.710000     24495700\n",
       "2025-02-14   14.050000  14.190000  13.980000  14.030000     12555300\n",
       "\n",
       "[502 rows x 5 columns]"
      ]
     },
     "execution_count": 3,
     "metadata": {},
     "output_type": "execute_result"
    }
   ],
   "source": [
    "# Retrieve stock data based on ticker and store it locally\n",
    "ticker='AAPL'\n",
    "path_ticker = f\"../data/raw_data/{ticker}.csv\"\n",
    "df = fetch_stock_data(ticker, path_ticker)\n",
    "df"
   ]
  }
 ],
 "metadata": {
  "kernelspec": {
   "display_name": "Python 3 (ipykernel)",
   "language": "python",
   "name": "python3"
  },
  "language_info": {
   "codemirror_mode": {
    "name": "ipython",
    "version": 3
   },
   "file_extension": ".py",
   "mimetype": "text/x-python",
   "name": "python",
   "nbconvert_exporter": "python",
   "pygments_lexer": "ipython3",
   "version": "3.10.6"
  },
  "toc": {
   "base_numbering": 1,
   "nav_menu": {},
   "number_sections": true,
   "sideBar": true,
   "skip_h1_title": false,
   "title_cell": "Table of Contents",
   "title_sidebar": "Contents",
   "toc_cell": false,
   "toc_position": {},
   "toc_section_display": true,
   "toc_window_display": true
  },
  "varInspector": {
   "cols": {
    "lenName": 16,
    "lenType": 16,
    "lenVar": 40
   },
   "kernels_config": {
    "python": {
     "delete_cmd_postfix": "",
     "delete_cmd_prefix": "del ",
     "library": "var_list.py",
     "varRefreshCmd": "print(var_dic_list())"
    },
    "r": {
     "delete_cmd_postfix": ") ",
     "delete_cmd_prefix": "rm(",
     "library": "var_list.r",
     "varRefreshCmd": "cat(var_dic_list()) "
    }
   },
   "types_to_exclude": [
    "module",
    "function",
    "builtin_function_or_method",
    "instance",
    "_Feature"
   ],
   "window_display": false
  }
 },
 "nbformat": 4,
 "nbformat_minor": 5
}
