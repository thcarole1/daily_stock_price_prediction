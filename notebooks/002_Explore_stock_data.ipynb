{
 "cells": [
  {
   "cell_type": "markdown",
   "id": "ef083f37",
   "metadata": {},
   "source": [
    "# Explore stock data"
   ]
  },
  {
   "cell_type": "markdown",
   "id": "a3cca522",
   "metadata": {},
   "source": [
    "**Context**: After downloading the stock data, we explore it."
   ]
  },
  {
   "cell_type": "markdown",
   "id": "763b67e2",
   "metadata": {},
   "source": [
    "# Imports"
   ]
  },
  {
   "cell_type": "code",
   "execution_count": 1,
   "id": "911aeb66",
   "metadata": {},
   "outputs": [],
   "source": [
    "import pandas as pd\n",
    "import matplotlib.pyplot as plt"
   ]
  },
  {
   "cell_type": "markdown",
   "id": "a3fe6a1b",
   "metadata": {},
   "source": [
    "# Fetching stock data"
   ]
  },
  {
   "cell_type": "code",
   "execution_count": 2,
   "id": "95b4cb1c",
   "metadata": {},
   "outputs": [],
   "source": [
    "def load_stock_data_locally(path:str) -> pd.DataFrame:\n",
    "    '''\n",
    "    This function receives a path (string) indicating where the stock data is stored locally.\n",
    "    It loads the stock data and returns it as a Pandas Dataframe.\n",
    "    '''\n",
    "    stock = pd.read_csv(path)\n",
    "    return stock"
   ]
  },
  {
   "cell_type": "code",
   "execution_count": 3,
   "id": "874665cd",
   "metadata": {},
   "outputs": [
    {
     "data": {
      "text/html": [
       "<div>\n",
       "<style scoped>\n",
       "    .dataframe tbody tr th:only-of-type {\n",
       "        vertical-align: middle;\n",
       "    }\n",
       "\n",
       "    .dataframe tbody tr th {\n",
       "        vertical-align: top;\n",
       "    }\n",
       "\n",
       "    .dataframe thead th {\n",
       "        text-align: right;\n",
       "    }\n",
       "</style>\n",
       "<table border=\"1\" class=\"dataframe\">\n",
       "  <thead>\n",
       "    <tr style=\"text-align: right;\">\n",
       "      <th></th>\n",
       "      <th>Date</th>\n",
       "      <th>Close_AAPL</th>\n",
       "      <th>High_AAPL</th>\n",
       "      <th>Low_AAPL</th>\n",
       "      <th>Open_AAPL</th>\n",
       "      <th>Volume_AAPL</th>\n",
       "    </tr>\n",
       "  </thead>\n",
       "  <tbody>\n",
       "    <tr>\n",
       "      <th>0</th>\n",
       "      <td>2023-02-14</td>\n",
       "      <td>151.670441</td>\n",
       "      <td>152.234757</td>\n",
       "      <td>149.353807</td>\n",
       "      <td>150.601222</td>\n",
       "      <td>61707600</td>\n",
       "    </tr>\n",
       "    <tr>\n",
       "      <th>1</th>\n",
       "      <td>2023-02-15</td>\n",
       "      <td>153.779175</td>\n",
       "      <td>153.947476</td>\n",
       "      <td>151.353639</td>\n",
       "      <td>151.581338</td>\n",
       "      <td>65573800</td>\n",
       "    </tr>\n",
       "    <tr>\n",
       "      <th>2</th>\n",
       "      <td>2023-02-16</td>\n",
       "      <td>152.175339</td>\n",
       "      <td>154.769175</td>\n",
       "      <td>151.818932</td>\n",
       "      <td>151.977323</td>\n",
       "      <td>68167900</td>\n",
       "    </tr>\n",
       "    <tr>\n",
       "      <th>3</th>\n",
       "      <td>2023-02-17</td>\n",
       "      <td>151.026947</td>\n",
       "      <td>151.472451</td>\n",
       "      <td>149.343923</td>\n",
       "      <td>150.828947</td>\n",
       "      <td>59144100</td>\n",
       "    </tr>\n",
       "    <tr>\n",
       "      <th>4</th>\n",
       "      <td>2023-02-21</td>\n",
       "      <td>146.997559</td>\n",
       "      <td>149.789411</td>\n",
       "      <td>146.928265</td>\n",
       "      <td>148.700387</td>\n",
       "      <td>58867200</td>\n",
       "    </tr>\n",
       "  </tbody>\n",
       "</table>\n",
       "</div>"
      ],
      "text/plain": [
       "         Date  Close_AAPL   High_AAPL    Low_AAPL   Open_AAPL  Volume_AAPL\n",
       "0  2023-02-14  151.670441  152.234757  149.353807  150.601222     61707600\n",
       "1  2023-02-15  153.779175  153.947476  151.353639  151.581338     65573800\n",
       "2  2023-02-16  152.175339  154.769175  151.818932  151.977323     68167900\n",
       "3  2023-02-17  151.026947  151.472451  149.343923  150.828947     59144100\n",
       "4  2023-02-21  146.997559  149.789411  146.928265  148.700387     58867200"
      ]
     },
     "execution_count": 3,
     "metadata": {},
     "output_type": "execute_result"
    }
   ],
   "source": [
    "# Retrieve stock data based on ticker and store it locally\n",
    "ticker='AAPL'\n",
    "path_ticker = f\"../data/raw_data/{ticker}.csv\"\n",
    "\n",
    "df = load_stock_data_locally(path_ticker)\n",
    "df.head()"
   ]
  },
  {
   "cell_type": "markdown",
   "id": "bdabfe92",
   "metadata": {},
   "source": [
    "# Exploration\n"
   ]
  },
  {
   "cell_type": "code",
   "execution_count": 4,
   "id": "fdc56eac",
   "metadata": {},
   "outputs": [],
   "source": [
    "def explore(df:pd.DataFrame):\n",
    "     '''\n",
    "     This function receives a Pandas Dataframe.\n",
    "     It returns : \n",
    "     - the shape of the input dataframe\n",
    "     - the columns of the input dataframe\n",
    "     - the informations of the input dataframe\n",
    "     - the statisticsof the input dataframe\n",
    "     - the histograms of the input dataframe\n",
    "     '''\n",
    "    # Shape\n",
    "    print(\"---\"*30)  #decorator\n",
    "    print(f\"Shape: {df.shape}\") \n",
    "    \n",
    "    # Columns\n",
    "    print(\"---\"*30)  #decorator \n",
    "    print(f\"Columns: {df.columns}\")\n",
    "    \n",
    "    # Informations\n",
    "    print(\"---\"*30)  #decorator\n",
    "    print(df.info())    \n",
    "    \n",
    "    # Statistics\n",
    "    print(\"---\"*30)  #decorator\n",
    "    display(df.describe())\n",
    "    \n",
    "    # Data histograms\n",
    "    print(\"---\"*30)  #decorator\n",
    "    df.hist(bins = 50, figsize = (25,10), xlabelsize=0)\n",
    "    plt.show()  "
   ]
  },
  {
   "cell_type": "code",
   "execution_count": 5,
   "id": "e9f68011",
   "metadata": {},
   "outputs": [
    {
     "name": "stdout",
     "output_type": "stream",
     "text": [
      "------------------------------------------------------------------------------------------\n",
      "Shape: (502, 6)\n",
      "------------------------------------------------------------------------------------------\n",
      "Columns: Index(['Date', 'Close_AAPL', 'High_AAPL', 'Low_AAPL', 'Open_AAPL',\n",
      "       'Volume_AAPL'],\n",
      "      dtype='object')\n",
      "------------------------------------------------------------------------------------------\n",
      "<class 'pandas.core.frame.DataFrame'>\n",
      "RangeIndex: 502 entries, 0 to 501\n",
      "Data columns (total 6 columns):\n",
      " #   Column       Non-Null Count  Dtype  \n",
      "---  ------       --------------  -----  \n",
      " 0   Date         502 non-null    object \n",
      " 1   Close_AAPL   502 non-null    float64\n",
      " 2   High_AAPL    502 non-null    float64\n",
      " 3   Low_AAPL     502 non-null    float64\n",
      " 4   Open_AAPL    502 non-null    float64\n",
      " 5   Volume_AAPL  502 non-null    int64  \n",
      "dtypes: float64(4), int64(1), object(1)\n",
      "memory usage: 23.7+ KB\n",
      "None\n",
      "------------------------------------------------------------------------------------------\n"
     ]
    },
    {
     "data": {
      "text/html": [
       "<div>\n",
       "<style scoped>\n",
       "    .dataframe tbody tr th:only-of-type {\n",
       "        vertical-align: middle;\n",
       "    }\n",
       "\n",
       "    .dataframe tbody tr th {\n",
       "        vertical-align: top;\n",
       "    }\n",
       "\n",
       "    .dataframe thead th {\n",
       "        text-align: right;\n",
       "    }\n",
       "</style>\n",
       "<table border=\"1\" class=\"dataframe\">\n",
       "  <thead>\n",
       "    <tr style=\"text-align: right;\">\n",
       "      <th></th>\n",
       "      <th>Close_AAPL</th>\n",
       "      <th>High_AAPL</th>\n",
       "      <th>Low_AAPL</th>\n",
       "      <th>Open_AAPL</th>\n",
       "      <th>Volume_AAPL</th>\n",
       "    </tr>\n",
       "  </thead>\n",
       "  <tbody>\n",
       "    <tr>\n",
       "      <th>count</th>\n",
       "      <td>502.000000</td>\n",
       "      <td>502.000000</td>\n",
       "      <td>502.000000</td>\n",
       "      <td>502.000000</td>\n",
       "      <td>5.020000e+02</td>\n",
       "    </tr>\n",
       "    <tr>\n",
       "      <th>mean</th>\n",
       "      <td>194.355574</td>\n",
       "      <td>195.923666</td>\n",
       "      <td>192.539791</td>\n",
       "      <td>194.121068</td>\n",
       "      <td>5.702520e+07</td>\n",
       "    </tr>\n",
       "    <tr>\n",
       "      <th>std</th>\n",
       "      <td>27.137724</td>\n",
       "      <td>27.387490</td>\n",
       "      <td>26.732088</td>\n",
       "      <td>27.084602</td>\n",
       "      <td>2.471568e+07</td>\n",
       "    </tr>\n",
       "    <tr>\n",
       "      <th>min</th>\n",
       "      <td>143.859207</td>\n",
       "      <td>145.245248</td>\n",
       "      <td>142.463290</td>\n",
       "      <td>142.938509</td>\n",
       "      <td>2.323470e+07</td>\n",
       "    </tr>\n",
       "    <tr>\n",
       "      <th>25%</th>\n",
       "      <td>173.011963</td>\n",
       "      <td>174.853991</td>\n",
       "      <td>171.928898</td>\n",
       "      <td>172.942461</td>\n",
       "      <td>4.436695e+07</td>\n",
       "    </tr>\n",
       "    <tr>\n",
       "      <th>50%</th>\n",
       "      <td>187.959610</td>\n",
       "      <td>188.567926</td>\n",
       "      <td>186.341220</td>\n",
       "      <td>187.696500</td>\n",
       "      <td>5.182055e+07</td>\n",
       "    </tr>\n",
       "    <tr>\n",
       "      <th>75%</th>\n",
       "      <td>222.215927</td>\n",
       "      <td>224.602411</td>\n",
       "      <td>219.864791</td>\n",
       "      <td>222.093694</td>\n",
       "      <td>6.294375e+07</td>\n",
       "    </tr>\n",
       "    <tr>\n",
       "      <th>max</th>\n",
       "      <td>258.735504</td>\n",
       "      <td>259.814335</td>\n",
       "      <td>257.347047</td>\n",
       "      <td>257.906429</td>\n",
       "      <td>3.186799e+08</td>\n",
       "    </tr>\n",
       "  </tbody>\n",
       "</table>\n",
       "</div>"
      ],
      "text/plain": [
       "       Close_AAPL   High_AAPL    Low_AAPL   Open_AAPL   Volume_AAPL\n",
       "count  502.000000  502.000000  502.000000  502.000000  5.020000e+02\n",
       "mean   194.355574  195.923666  192.539791  194.121068  5.702520e+07\n",
       "std     27.137724   27.387490   26.732088   27.084602  2.471568e+07\n",
       "min    143.859207  145.245248  142.463290  142.938509  2.323470e+07\n",
       "25%    173.011963  174.853991  171.928898  172.942461  4.436695e+07\n",
       "50%    187.959610  188.567926  186.341220  187.696500  5.182055e+07\n",
       "75%    222.215927  224.602411  219.864791  222.093694  6.294375e+07\n",
       "max    258.735504  259.814335  257.347047  257.906429  3.186799e+08"
      ]
     },
     "metadata": {},
     "output_type": "display_data"
    },
    {
     "name": "stdout",
     "output_type": "stream",
     "text": [
      "------------------------------------------------------------------------------------------\n"
     ]
    },
    {
     "data": {
      "image/png": "[encoded data removed]",
      "text/plain": [
       "<Figure size 2500x1000 with 6 Axes>"
      ]
     },
     "metadata": {},
     "output_type": "display_data"
    }
   ],
   "source": [
    "explore(df)"
   ]
  },
  {
   "cell_type": "code",
   "execution_count": null,
   "id": "20198099",
   "metadata": {},
   "outputs": [],
   "source": []
  }
 ],
 "metadata": {
  "kernelspec": {
   "display_name": "Python 3 (ipykernel)",
   "language": "python",
   "name": "python3"
  },
  "language_info": {
   "codemirror_mode": {
    "name": "ipython",
    "version": 3
   },
   "file_extension": ".py",
   "mimetype": "text/x-python",
   "name": "python",
   "nbconvert_exporter": "python",
   "pygments_lexer": "ipython3",
   "version": "3.10.6"
  },
  "toc": {
   "base_numbering": 1,
   "nav_menu": {},
   "number_sections": true,
   "sideBar": true,
   "skip_h1_title": false,
   "title_cell": "Table of Contents",
   "title_sidebar": "Contents",
   "toc_cell": false,
   "toc_position": {},
   "toc_section_display": true,
   "toc_window_display": false
  },
  "varInspector": {
   "cols": {
    "lenName": 16,
    "lenType": 16,
    "lenVar": 40
   },
   "kernels_config": {
    "python": {
     "delete_cmd_postfix": "",
     "delete_cmd_prefix": "del ",
     "library": "var_list.py",
     "varRefreshCmd": "print(var_dic_list())"
    },
    "r": {
     "delete_cmd_postfix": ") ",
     "delete_cmd_prefix": "rm(",
     "library": "var_list.r",
     "varRefreshCmd": "cat(var_dic_list()) "
    }
   },
   "types_to_exclude": [
    "module",
    "function",
    "builtin_function_or_method",
    "instance",
    "_Feature"
   ],
   "window_display": false
  }
 },
 "nbformat": 4,
 "nbformat_minor": 5
}
