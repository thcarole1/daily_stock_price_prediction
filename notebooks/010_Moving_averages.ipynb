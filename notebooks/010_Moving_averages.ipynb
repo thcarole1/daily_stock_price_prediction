{
 "cells": [
  {
   "cell_type": "markdown",
   "id": "68e175da",
   "metadata": {},
   "source": [
    "# Moving averages\n",
    "\n",
    "\n"
   ]
  },
  {
   "cell_type": "markdown",
   "id": "c4fcf5b1",
   "metadata": {},
   "source": [
    "**Context**: Optimizing Moving Averages for ETF Investing\n",
    "\n",
    "\n"
   ]
  },
  {
   "cell_type": "markdown",
   "id": "e878794c",
   "metadata": {},
   "source": [
    "# Imports\n"
   ]
  },
  {
   "cell_type": "code",
   "execution_count": 1,
   "id": "eb492a01",
   "metadata": {},
   "outputs": [],
   "source": [
    "import pandas as pd\n",
    "import numpy as np\n",
    "import seaborn as sns\n",
    "import matplotlib.pyplot as plt\n",
    "import keras.backend as K\n",
    "\n",
    "# Scaling the data\n",
    "from sklearn.preprocessing import MinMaxScaler\n",
    "\n",
    "# Create RNN model\n",
    "from tensorflow.keras.models import Sequential, load_model\n",
    "from tensorflow.keras.optimizers import Adam\n",
    "from tensorflow.keras import layers\n",
    "from tensorflow.keras.callbacks import EarlyStopping\n",
    "\n",
    "# Metrics\n",
    "from sklearn.metrics import mean_absolute_error, mean_squared_error, mean_absolute_percentage_error, r2_score\n",
    "from tensorflow.keras.metrics import RootMeanSquaredError, MeanAbsolutePercentageError\n",
    "\n",
    "# Model selection\n",
    "from sklearn.model_selection import TimeSeriesSplit"
   ]
  },
  {
   "cell_type": "markdown",
   "id": "a7011dc1",
   "metadata": {},
   "source": [
    "# Functions\n",
    "\n"
   ]
  },
  {
   "cell_type": "markdown",
   "id": "a05bceb5",
   "metadata": {},
   "source": [
    "## General functions\n"
   ]
  },
  {
   "cell_type": "code",
   "execution_count": 2,
   "id": "40ebe831",
   "metadata": {},
   "outputs": [],
   "source": [
    "def merge_dataframes_on_index(df_a : pd.DataFrame, df_b: pd.DataFrame) -> pd.DataFrame:\n",
    "    '''\n",
    "    This function receives 2 Pandas dataframes.\n",
    "    It merges them together based on their index (time-related indexes).\n",
    "    It returns a merged dataframe.\n",
    "    '''\n",
    "    return pd.merge(df_a, df_b, left_index=True, right_index=True)"
   ]
  },
  {
   "cell_type": "markdown",
   "id": "8a930093",
   "metadata": {},
   "source": [
    "## Load data functions\n"
   ]
  },
  {
   "cell_type": "code",
   "execution_count": 3,
   "id": "139baa8a",
   "metadata": {},
   "outputs": [],
   "source": [
    "def load_stock_data_locally(path:str) -> pd.DataFrame:\n",
    "    '''\n",
    "    This function receives a path (string) indicating where the stock data is stored locally.\n",
    "    - It loads the stock data as csv file.\n",
    "    - It takes Date column as index.\n",
    "    - It transforms the index into Date time index.\n",
    "    It returns it as a Pandas Dataframe.\n",
    "    '''\n",
    "    stock = pd.read_csv(path, index_col='Date')\n",
    "    stock.index = pd.to_datetime(stock.index)\n",
    "    return stock"
   ]
  },
  {
   "cell_type": "markdown",
   "id": "7a97973f",
   "metadata": {},
   "source": [
    "## Train and test split functions\n"
   ]
  },
  {
   "cell_type": "code",
   "execution_count": 4,
   "id": "11dc3403",
   "metadata": {},
   "outputs": [],
   "source": [
    "def get_split_data(df:pd.DataFrame, train_size : float):\n",
    "    '''\n",
    "    This function gets a Pandas Dataframe and an float that represents \n",
    "    the size of my train dataset relative to all the available data.\n",
    "    It return a train dataset and a test dataset.\n",
    "    '''\n",
    "    index= round(train_size*df.shape[0])\n",
    "    train = df.iloc[:index]\n",
    "    test = df.iloc[index:]\n",
    "    return train, test"
   ]
  },
  {
   "cell_type": "markdown",
   "id": "1ad312e2",
   "metadata": {},
   "source": [
    "## Plotting train and test data functions\n",
    "\n"
   ]
  },
  {
   "cell_type": "code",
   "execution_count": 5,
   "id": "efeedcb7",
   "metadata": {},
   "outputs": [],
   "source": [
    "def plot_train_test_df(train:pd.DataFrame, test:pd.DataFrame):\n",
    "    '''\n",
    "    This function receives 2 Pandas Dataframes: train and test.\n",
    "    - It selects the numerical features in the input dataframes.\n",
    "    - It plots lineplots for each numerical feature of the 2 input dataframes.\n",
    "    '''     \n",
    "    # Numerical Features\n",
    "    numerical_features = train.select_dtypes(include = 'number').columns.values.tolist()\n",
    "\n",
    "    #Parameters     \n",
    "    ncol_max = 1\n",
    "    nrow_max = len(numerical_features)   \n",
    "    \n",
    "    #Figure settings\n",
    "    fig, axs = plt.subplots(nrows = nrow_max, ncols = ncol_max, figsize=(8, 15))\n",
    "\n",
    "    # Flatten axes for easy iteration\n",
    "    axs = axs.flatten()\n",
    "    \n",
    "    for index, col in enumerate(numerical_features):  \n",
    "        # Plotting the histograms\n",
    "        sns.lineplot(data = train[numerical_features], y= col, x=train.index,  ax=axs[index])   \n",
    "        sns.lineplot(data = test[numerical_features], y= col, x=test.index,  ax=axs[index])  \n",
    "        \n",
    "        # Formatting\n",
    "        axs[index].set_xlabel(col)\n",
    "        axs[index].set_title(f'Line Plot - {col}')  \n",
    "        axs[index].legend([\"Train set\", \"Test set\"], title=\"Legend\", loc=\"best\")\n",
    "        \n",
    "        # Adjust spacing between subplots\n",
    "        plt.subplots_adjust(wspace=0.3, hspace=0.8)  # wspace (width), hspace (height)    "
   ]
  },
  {
   "cell_type": "code",
   "execution_count": 6,
   "id": "bfb6bd9e",
   "metadata": {},
   "outputs": [],
   "source": [
    "def plot_lines_series_train_test(train:pd.DataFrame, test:pd.DataFrame, target):\n",
    "    '''\n",
    "    This function receives 2 Pandas Dataframes: train and test, and a target feature.\n",
    "    - It plots lineplots for each numerical feature of the 2 input dataframes.\n",
    "    '''      \n",
    "    #Figure settings\n",
    "    fig, ax = plt.subplots(figsize=(8, 5))\n",
    "    \n",
    "    # Plotting the histograms\n",
    "    sns.lineplot(data=train, x=train.index, y=target)  \n",
    "    sns.lineplot(data=test, x=test.index, y=target)  \n",
    "    \n",
    "    # Formatting  \n",
    "    ax.set_xlabel(f\"{target}\")\n",
    "    ax.set_title(f'Line Plot - {target}')  \n",
    "    ax.legend([\"Train set\", \"Test set\"], title=\"Legend\", loc=\"best\")\n",
    "\n",
    "    # Adjust spacing between subplots\n",
    "    plt.subplots_adjust(wspace=0.3, hspace=0.8)  # wspace (width), hspace (height)     "
   ]
  },
  {
   "cell_type": "markdown",
   "id": "6818a8b0",
   "metadata": {},
   "source": [
    "## Plotting predictions and test data functions"
   ]
  },
  {
   "cell_type": "code",
   "execution_count": 7,
   "id": "95cb0047",
   "metadata": {
    "scrolled": false
   },
   "outputs": [],
   "source": [
    "def plot_lines_series_pred_test(pred:pd.DataFrame, test:pd.DataFrame):\n",
    "    '''\n",
    "    This function receives 2 Pandas Dataframes: pred and test.\n",
    "    - It plots lineplots for each numerical feature of the 2 input dataframes.\n",
    "    '''      \n",
    "    import matplotlib.dates as mdates\n",
    "    #Figure settings\n",
    "    fig, ax = plt.subplots(figsize=(8, 5))\n",
    "    \n",
    "    # Plotting the histograms\n",
    "    sns.lineplot(data=test, x=test.index, y='Price')  \n",
    "    sns.lineplot(data = pred, x=pred.index, y='Price')  \n",
    "\n",
    "    \n",
    "    # Formatting  \n",
    "    ax.set_xlabel(\"Date\")\n",
    "    ax.set_title(f'Line Plot')  \n",
    "    ax.legend([\"Test set\", \"Predictions\"], title=\"Legend\", loc=\"best\")\n",
    "\n",
    "    # Adjust spacing between subplots\n",
    "    plt.subplots_adjust(wspace=0.3, hspace=0.8)  # wspace (width), hspace (height)   \n",
    "   \n",
    "    ax.xaxis.set_major_locator(mdates.MonthLocator(interval=3))  # Show \n",
    "    ax.xaxis.set_major_formatter(mdates.DateFormatter('%Y-%m'))  # Format to show \n",
    "    \n",
    "    plt.grid()\n",
    "    plt.tight_layout()"
   ]
  },
  {
   "cell_type": "code",
   "execution_count": 8,
   "id": "20c6c840",
   "metadata": {
    "scrolled": false
   },
   "outputs": [],
   "source": [
    "def subplot_pred_test(pred:pd.DataFrame, test:pd.DataFrame):\n",
    "    '''\n",
    "    This function receives 2 Pandas Dataframes: pred and test.\n",
    "    - It selects the numerical features in the input dataframes.\n",
    "    - It plots lineplots for each numerical feature of the 2 input dataframes.\n",
    "    '''     \n",
    "    # Numerical Features\n",
    "    numerical_features = test.select_dtypes(include = 'number').columns.values.tolist()\n",
    "\n",
    "    #Parameters     \n",
    "    ncol_max = 1\n",
    "    nrow_max = 2\n",
    "    \n",
    "    #Figure settings\n",
    "    fig, axs = plt.subplots(nrows = nrow_max, ncols = ncol_max, figsize=(8, 4))\n",
    "    \n",
    "    # Plotting the histograms\n",
    "    sns.lineplot(data=test, y=numerical_features[0], x=test.index,  ax=axs[0])   \n",
    "    sns.lineplot(data=pred, y=numerical_features[0], x=pred.index,  ax=axs[1]) \n",
    "    \n",
    "    # Formatting\n",
    "    axs[0].set_xlabel('Date')\n",
    "    axs[0].set_title(f'Line Plot - {numerical_features[0]}')  \n",
    "    axs[0].legend([\"Test set\"], title=\"Legend\", loc=\"best\")\n",
    "    axs[0].grid()\n",
    "    \n",
    "    axs[1].set_xlabel('Date')\n",
    "    axs[1].set_title(f'Line Plot - {numerical_features[0]}')  \n",
    "    axs[1].legend([\"Prediction set\"], title=\"Legend\", loc=\"best\")\n",
    "    axs[1].grid()\n",
    "    \n",
    "    # Adjust spacing between subplots\n",
    "    plt.subplots_adjust(wspace=0.3, hspace=0.5)  # wspace (width), hspace (height)    \n",
    "    plt.tight_layout()"
   ]
  },
  {
   "cell_type": "markdown",
   "id": "c9849e9d",
   "metadata": {},
   "source": [
    "## Data preparation functions"
   ]
  },
  {
   "cell_type": "code",
   "execution_count": 9,
   "id": "e37ed401",
   "metadata": {},
   "outputs": [],
   "source": [
    "def prepare_train_data_multiple_feats(df, features_list: list, target:str, scaler, target_scaler, look_back=10):\n",
    "    '''\n",
    "    This function receives a Pandas dataframe, a features list, a target feature, a scaler and a observation window parameter.\n",
    "    - It scales the train data, then create sequences of train data.\n",
    "    Outputs : training data X, training target y and fitted scaler\n",
    "    '''\n",
    "    scaled_data = scaler.fit_transform(df[features_list]) \n",
    "    scaled_data_df = pd.DataFrame(scaled_data, columns=scaler.get_feature_names_out())\n",
    "    \n",
    "    #Scaling target (for prediction inverse transform)\n",
    "    target_scaler.fit(df[[target]])\n",
    "    \n",
    "    X, y = [], []\n",
    "    for i in range(look_back, len(scaled_data_df)-1):\n",
    "        X.append(scaled_data_df.iloc[i-look_back:i].to_numpy())\n",
    "        y.append(scaled_data_df[target].iloc[i])       \n",
    "    return np.array(X), np.array(y), scaler, target_scaler"
   ]
  },
  {
   "cell_type": "code",
   "execution_count": 10,
   "id": "9d22b8e3",
   "metadata": {},
   "outputs": [],
   "source": [
    "def prepare_test_data_multiple_feats(df, features_list: list, target:str, scaler, look_back=10):\n",
    "    '''\n",
    "    This function receives a Pandas dataframe, a target list, a scaler and a observation window parameter.\n",
    "    Scales the test data, then create sequences of test data.\n",
    "    Outputs : test data X, test target y and associated dates\n",
    "    '''\n",
    "    scaled_data = scaler.transform(df[features_list])\n",
    "    scaled_data_df = pd.DataFrame(scaled_data, columns=scaler.get_feature_names_out())\n",
    "    \n",
    "    X, y = [], []\n",
    "    dates = []\n",
    "    for i in range(look_back, len(scaled_data_df)-1):\n",
    "        X.append(scaled_data_df.iloc[i-look_back:i].to_numpy())\n",
    "        y.append(scaled_data_df[target].iloc[i]) \n",
    "        dates.append(df.index[i])\n",
    "    return np.array(X), np.array(y), dates"
   ]
  },
  {
   "cell_type": "markdown",
   "id": "f0197eed",
   "metadata": {},
   "source": [
    "## Model architecture functions"
   ]
  },
  {
   "cell_type": "code",
   "execution_count": 11,
   "id": "9ba8108d",
   "metadata": {},
   "outputs": [],
   "source": [
    "# Create LSTM model architecture\n",
    "def define_LSTM_model(window, nb_feature):\n",
    "    '''\n",
    "    Defines the structure of the deep learning model, then defines compilation parameters.\n",
    "    Outputs LSTM model instance.\n",
    "    '''\n",
    "    # 1- RNN Architecture\n",
    "    model = Sequential()\n",
    "    model.add(layers.LSTM(units=50, activation='tanh',return_sequences=True, input_shape=(window,nb_feature)))\n",
    "    model.add(layers.Dropout(rate=0.2))\n",
    "    model.add(layers.LSTM(units=20, activation='tanh',return_sequences=False))\n",
    "    model.add(layers.Dropout(rate=0.2))\n",
    "    model.add(layers.Dense(1, activation=\"linear\"))\n",
    "\n",
    "    # 2- Compilation\n",
    "    model.compile(loss='mse', optimizer='adam', \n",
    "                  metrics =['mse', 'mae', RootMeanSquaredError(), MeanAbsolutePercentageError()])\n",
    "    return model"
   ]
  },
  {
   "cell_type": "code",
   "execution_count": 12,
   "id": "3f22c7c9",
   "metadata": {},
   "outputs": [],
   "source": [
    "# Create LSTM model architecture (maximize correlation)\n",
    "def define_LSTM_model_max_correlation(window, nb_feature):\n",
    "    '''\n",
    "    Defines the structure of the deep learning model, then defines compilation parameters.\n",
    "    Outputs LSTM model instance.\n",
    "    '''\n",
    "    # 1- RNN Architecture\n",
    "    model = Sequential()\n",
    "    model.add(layers.LSTM(units=50, activation='tanh',return_sequences=True, input_shape=(window,nb_feature)))\n",
    "    model.add(layers.Dropout(rate=0.2))\n",
    "    model.add(layers.LSTM(units=20, activation='tanh',return_sequences=False))\n",
    "    model.add(layers.Dropout(rate=0.2))\n",
    "    model.add(layers.Dense(1, activation=\"linear\"))\n",
    "\n",
    "    # 2- Compilation\n",
    "    model.compile(loss=pearson_corr_loss, optimizer='adam', \n",
    "                  metrics =['mse', 'mae', RootMeanSquaredError(), MeanAbsolutePercentageError()])\n",
    "    return model"
   ]
  },
  {
   "cell_type": "markdown",
   "id": "08cbd405",
   "metadata": {},
   "source": [
    "## Model fitting functions"
   ]
  },
  {
   "cell_type": "code",
   "execution_count": 13,
   "id": "5c0d7af5",
   "metadata": {},
   "outputs": [],
   "source": [
    "def fit_lstm_model(model, X_train_scaled, y_train_scaled):\n",
    "    '''\n",
    "    This function receives an LSTM model, scaled train data and scaled train target (i.e predicted output).\n",
    "    It returns the fitted LSTM model.\n",
    "    '''\n",
    "    # Fitting model parameter\n",
    "    es = EarlyStopping(patience = 30, restore_best_weights=True)\n",
    "\n",
    "    # Fitting model\n",
    "    history = model.fit(x=X_train_scaled,\n",
    "                        y=y_train_scaled,\n",
    "                        batch_size=16,\n",
    "                        epochs=1000,\n",
    "                        verbose=0,\n",
    "                        callbacks=[es],\n",
    "                        validation_split=0.3,\n",
    "                        shuffle=False)\n",
    "    return model"
   ]
  },
  {
   "cell_type": "markdown",
   "id": "0b08a9ba",
   "metadata": {},
   "source": [
    "## Make predictions functions\n"
   ]
  },
  {
   "cell_type": "code",
   "execution_count": 14,
   "id": "c6cc4db3",
   "metadata": {},
   "outputs": [],
   "source": [
    "def make_predictions(model, fitted_scaler, dates):\n",
    "    '''\n",
    "    This function receives an LSTM model,\n",
    "    a fitted scaler to rebuild/scale back the prediction to actual units, and test dates.\n",
    "    '''\n",
    "    # Predictions from unseen data\n",
    "    y_pred = model.predict(X_test_scaled)\n",
    "    y_pred = fitted_scaler.inverse_transform(y_pred)   \n",
    "    y_pred_df = pd.DataFrame(y_pred, index=dates, columns=['Price'])\n",
    "\n",
    "    return y_pred_df\n",
    "    "
   ]
  },
  {
   "cell_type": "code",
   "execution_count": 15,
   "id": "afa976d7",
   "metadata": {},
   "outputs": [],
   "source": [
    "def compute_y_test(y_test_scaled, fitted_scaler, dates):\n",
    "    '''\n",
    "    This function receives the scaled datatest,\n",
    "    a fitted scaler to rebuild/scale back the test data to actual units, and test dates.\n",
    "    '''\n",
    "    # Compute y_test (no scaling)\n",
    "    y_test_scaled = y_test_scaled.reshape(-1,1)\n",
    "    y_test = fitted_scaler.inverse_transform(y_test_scaled)\n",
    "    y_test_df = pd.DataFrame(y_test, index=dates, columns=['Price'])\n",
    "    return y_test_df"
   ]
  },
  {
   "cell_type": "markdown",
   "id": "87601647",
   "metadata": {},
   "source": [
    "## Plotting train, test and predictions functions"
   ]
  },
  {
   "cell_type": "code",
   "execution_count": 16,
   "id": "9ca4b341",
   "metadata": {},
   "outputs": [],
   "source": [
    "def plot_final_lstm(train, train_label,\n",
    "                   test, test_label,\n",
    "                   forecast_recons, forecast_recons_label,\n",
    "                   target):\n",
    "    '''\n",
    "    Plots the training data, the test data and the predictions from LSTM model.\n",
    "    Outputs : All the data on left side, a zoomed plot on latest data on the right side.\n",
    "    '''\n",
    "    import matplotlib.dates as mdates\n",
    "    fig, axs = plt.subplots(1, 2, figsize=(12, 5))\n",
    "    axs[0].plot(train, label=train_label)\n",
    "    axs[0].plot(test, label=test_label)\n",
    "    axs[0].plot(forecast_recons, label=forecast_recons_label)\n",
    "    axs[0].legend()\n",
    "    axs[0].set_title('Train data, test data and predictions')\n",
    "    axs[0].set_xlabel('Date')\n",
    "    axs[0].set_ylabel(f\"{target[0]}\")\n",
    "    axs[0].xaxis.set_major_locator(mdates.MonthLocator(interval=6))  # Show \n",
    "    axs[0].xaxis.set_major_formatter(mdates.DateFormatter('%Y-%m'))  # Format to show \n",
    "\n",
    "    n_last =100\n",
    "    axs[1].plot(train[-n_last:], label=train_label)\n",
    "    axs[1].plot(test, label=test_label)\n",
    "    axs[1].plot(forecast_recons, label=forecast_recons_label)\n",
    "    axs[1].legend()\n",
    "    axs[1].set_title('ZOOM on train data, test data and predictions')\n",
    "    axs[1].set_xlabel('Date')\n",
    "    axs[1].set_ylabel(f\"{target[0]}\")\n",
    "    axs[1].xaxis.set_major_locator(mdates.MonthLocator(interval=3))  # Show \n",
    "    axs[1].xaxis.set_major_formatter(mdates.DateFormatter('%Y-%m'))  # Format to show \n",
    "    plt.tight_layout()"
   ]
  },
  {
   "cell_type": "code",
   "execution_count": 17,
   "id": "a39b4551",
   "metadata": {},
   "outputs": [],
   "source": [
    "def plot_final_lstm_3windows(train, train_label,\n",
    "                   test, test_label,\n",
    "                   forecast_recons, forecast_recons_label,\n",
    "                   target):\n",
    "    '''\n",
    "    Plots the training data, the test data and the predictions from LSTM model.\n",
    "    Outputs : All the data on left side, a zoomed plot on latest data on the right side.\n",
    "    '''\n",
    "    import matplotlib.dates as mdates\n",
    "    \n",
    "    fig, axs = plt.subplots(1, 3, figsize=(12, 5))\n",
    "    axs[0].plot(train, label=train_label)\n",
    "    axs[0].plot(test, label=test_label)\n",
    "    axs[0].plot(forecast_recons, label=forecast_recons_label)\n",
    "    axs[0].legend()\n",
    "    axs[0].set_title('Train data, test data and predictions')\n",
    "    axs[0].set_xlabel('Date')\n",
    "    axs[0].set_ylabel(f\"{target[0]}\")\n",
    "    axs[0].xaxis.set_major_locator(mdates.MonthLocator(interval=6))  # Show \n",
    "    axs[0].xaxis.set_major_formatter(mdates.DateFormatter('%Y-%m'))  # Format to show \n",
    "\n",
    "    n_last =100\n",
    "    axs[1].plot(train[-n_last:], label=train_label)\n",
    "    axs[1].plot(test, label=test_label)\n",
    "    axs[1].plot(forecast_recons, label=forecast_recons_label)\n",
    "    axs[1].legend()\n",
    "    axs[1].set_title('ZOOM on train data, test data and predictions')\n",
    "    axs[1].set_xlabel('Date')\n",
    "    axs[1].set_ylabel(f\"{target[0]}\")\n",
    "    axs[1].xaxis.set_major_locator(mdates.MonthLocator(interval=6))  # Show \n",
    "    axs[1].xaxis.set_major_formatter(mdates.DateFormatter('%Y-%m'))  # Format to show \n",
    "    \n",
    "    axs[2].plot(test, label=test_label)\n",
    "    axs[2].plot(forecast_recons, label=forecast_recons_label)\n",
    "    axs[2].legend()\n",
    "    axs[2].set_title('Test data and predictions')\n",
    "    axs[2].set_xlabel('Date')\n",
    "    axs[2].set_ylabel(f\"{target[0]}\")\n",
    "    axs[2].xaxis.set_major_locator(mdates.MonthLocator(interval=6))  # Show \n",
    "    axs[2].xaxis.set_major_formatter(mdates.DateFormatter('%Y-%m'))  # Format to show \n",
    "    plt.tight_layout()\n",
    "    "
   ]
  },
  {
   "cell_type": "code",
   "execution_count": 18,
   "id": "10e307d9",
   "metadata": {},
   "outputs": [],
   "source": [
    "def plot_final_lstm_3windows_tuning(train, train_label,\n",
    "                   test, test_label,\n",
    "                   forecast_recons, forecast_recons_label,\n",
    "                   target, tuple):\n",
    "    '''\n",
    "    Plots the training data, the test data and the predictions from LSTM model.\n",
    "    Outputs : All the data on left side, a zoomed plot on latest data on the right side.\n",
    "    '''\n",
    "    import matplotlib.dates as mdates\n",
    "    \n",
    "    fig, axs = plt.subplots(1, 3, figsize=(12, 5))\n",
    "    axs[0].plot(train, label=train_label)\n",
    "    axs[0].plot(test, label=test_label)\n",
    "    axs[0].plot(forecast_recons, label=forecast_recons_label)\n",
    "    axs[0].legend()\n",
    "    axs[0].set_title(f'cv : {tuple[0]} - Look_back : {tuple[1]}')\n",
    "    axs[0].set_xlabel('Date')\n",
    "    axs[0].set_ylabel(f\"{target[0]}\")\n",
    "    axs[0].xaxis.set_major_locator(mdates.MonthLocator(interval=6))  # Show \n",
    "    axs[0].xaxis.set_major_formatter(mdates.DateFormatter('%Y-%m'))  # Format to show \n",
    "\n",
    "    n_last =100\n",
    "    axs[1].plot(train[-n_last:], label=train_label)\n",
    "    axs[1].plot(test, label=test_label)\n",
    "    axs[1].plot(forecast_recons, label=forecast_recons_label)\n",
    "    axs[1].legend()\n",
    "    axs[1].set_title(f'cv : {tuple[0]} - Look_back : {tuple[1]}')\n",
    "    axs[1].set_xlabel('Date')\n",
    "    axs[1].set_ylabel(f\"{target[0]}\")\n",
    "    axs[1].xaxis.set_major_locator(mdates.MonthLocator(interval=6))  # Show \n",
    "    axs[1].xaxis.set_major_formatter(mdates.DateFormatter('%Y-%m'))  # Format to show \n",
    "    \n",
    "    axs[2].plot(test, label=test_label)\n",
    "    axs[2].plot(forecast_recons, label=forecast_recons_label)\n",
    "    axs[2].legend()\n",
    "    axs[2].set_title(f'cv : {tuple[0]} - Look_back : {tuple[1]}')\n",
    "    axs[2].set_xlabel('Date')\n",
    "    axs[2].set_ylabel(f\"{target[0]}\")\n",
    "    axs[2].xaxis.set_major_locator(mdates.MonthLocator(interval=6))  # Show \n",
    "    axs[2].xaxis.set_major_formatter(mdates.DateFormatter('%Y-%m'))  # Format to show \n",
    "    plt.tight_layout()"
   ]
  },
  {
   "cell_type": "markdown",
   "id": "d87ccc09",
   "metadata": {},
   "source": [
    "## Computing metrics functions"
   ]
  },
  {
   "cell_type": "code",
   "execution_count": 19,
   "id": "582a85c7",
   "metadata": {},
   "outputs": [],
   "source": [
    "def compute_metrics_df(y_pred_df, y_test_df):\n",
    "    '''\n",
    "    This function receives the predictions and the test data and computes metrics.\n",
    "    It returns a Pandas dataframe listing the computed metrics.\n",
    "    '''    \n",
    "    mse, mae, rmse, mape = [], [], [], []\n",
    "    \n",
    "    mse.append(mean_squared_error(y_test_df, y_pred_df))\n",
    "    mae.append(mean_absolute_error(y_test_df, y_pred_df))\n",
    "    rmse.append(np.sqrt(mean_squared_error(y_test_df, y_pred_df)))\n",
    "    mape.append(mean_absolute_percentage_error(y_test_df,y_pred_df))\n",
    "    \n",
    "    dict = {\"mse\" : mse,\"mae\" : mae,\"rmse\" : rmse,\"mape\" : mape} \n",
    "\n",
    "    metrics_df = pd.DataFrame(dict, index = range(len(mse)))\n",
    "    metrics_df = metrics_df.sort_values(by='mape',ascending=True)\n",
    "    \n",
    "    return metrics_df"
   ]
  },
  {
   "cell_type": "markdown",
   "id": "73516f2a",
   "metadata": {},
   "source": [
    "## Cross validation functions"
   ]
  },
  {
   "cell_type": "code",
   "execution_count": 20,
   "id": "97239614",
   "metadata": {},
   "outputs": [
    {
     "name": "stdout",
     "output_type": "stream",
     "text": [
      "CPU times: user 2 µs, sys: 1 µs, total: 3 µs\n",
      "Wall time: 4.29 µs\n"
     ]
    }
   ],
   "source": [
    "%%time \n",
    "def cross_validate_time(lstm_model, df, cv, look_back):\n",
    "    '''\n",
    "    This function receives :\n",
    "    - an LSTM model (not fitted)\n",
    "    - a dataframe containing the initial raw time series data\n",
    "    - a cross validation parameter cv (i.e number of cross validations to be performed)\n",
    "    - an observation window parameter (i.e look_back) describing the window of observation to predict the target output.\n",
    "    \n",
    "    It runs a time series cross validation.\n",
    "    It plots train data, test data and predictions.\n",
    "    It returns lists that contains the mean values of metrics.\n",
    "    '''\n",
    "\n",
    "    # Time Series Cross-Validation Setup\n",
    "    tscv = TimeSeriesSplit(n_splits=cv)\n",
    "\n",
    "    mse_lstm_mul_feat, mae_lstm_mul_feat, rmse_lstm_mul_feat, mape_lstm_mul_feat = [],[],[],[]\n",
    "\n",
    "    cv_indicator = 1\n",
    "    \n",
    "    for train_index, test_index in tscv.split(df):\n",
    "        '''\n",
    "        Cross validates the LSTM model.\n",
    "        1. Create train dataset and test dataset\n",
    "        2. Prepare train data and test data (scaling, sequences)\n",
    "        3. Fit the LSTM model on the train (scaled) data\n",
    "        4. Predict unseen data (i.e based on test set)\n",
    "        5. Inverse scaling of scaled test and also predictions\n",
    "        6. Compute metrics\n",
    "        7. Plots the training data, the test data and the predictions from LSTM model and outputs : All the data on left side, a zoomed plot on latest data on the right side.\n",
    "            '''\n",
    "\n",
    "        #Create train set and test set     \n",
    "        train_cv, test_cv = df[features_list].iloc[train_index], df[features_list].iloc[test_index]\n",
    "\n",
    "        #Prepare data\n",
    "        scaler = MinMaxScaler()   \n",
    "        target_scaler = MinMaxScaler()\n",
    "\n",
    "        X_train_scaled, y_train_scaled, \\\n",
    "        fitted_scaler, fitted_target_scaler = prepare_train_data_multiple_feats(train_cv, features_list,\n",
    "                                                                                target, scaler, target_scaler, look_back)\n",
    "\n",
    "        X_test_scaled, y_test_scaled, dates = prepare_test_data_multiple_feats(test_cv,features_list,\n",
    "                                                                               target, fitted_scaler, look_back)\n",
    "\n",
    "        # Fitting model parameter\n",
    "        es = EarlyStopping(patience = 30, restore_best_weights=True)\n",
    "\n",
    "        # Fitting model\n",
    "        history = lstm_model.fit(x=X_train_scaled,\n",
    "                            y=y_train_scaled,\n",
    "                            batch_size=16,\n",
    "                            epochs=1000,\n",
    "                            verbose=0,\n",
    "                            callbacks=[es],\n",
    "                            validation_split=0.3,\n",
    "                            shuffle=False)\n",
    "\n",
    "        # Predictions from unseen data\n",
    "        y_pred = lstm_model.predict(X_test_scaled)\n",
    "        y_pred = fitted_target_scaler.inverse_transform(y_pred)   \n",
    "        y_pred_df = pd.DataFrame(y_pred, index=dates)\n",
    "\n",
    "        # Compute y_test (no scaling)\n",
    "        y_test_scaled = y_test_scaled.reshape(-1,1)\n",
    "        y_test = fitted_target_scaler.inverse_transform(y_test_scaled)\n",
    "        y_test_df = pd.DataFrame(y_test, index=dates)\n",
    "\n",
    "        # Compute metrics     \n",
    "        mse_lstm_mul_feat.append(mean_squared_error(y_test_df, y_pred_df))\n",
    "        mae_lstm_mul_feat.append(mean_absolute_error(y_test_df, y_pred_df))\n",
    "        rmse_lstm_mul_feat.append(np.sqrt(mean_squared_error(y_test_df, y_pred_df)))\n",
    "        mape_lstm_mul_feat.append(mean_absolute_percentage_error(y_test_df,y_pred_df))\n",
    "\n",
    "        # Plotting     \n",
    "        plot_final_lstm_3windows_tuning(train_cv[target], \"training data\",\n",
    "                       y_test_df, \"test data\",\n",
    "                       y_pred_df, \"predictions\",\n",
    "                       target, (cv_indicator,look_back))\n",
    "        cv_indicator +=1\n",
    "\n",
    "    # Compute the metrics mean\n",
    "    mse_lstm_mean_mul_feat = np.mean(mse_lstm_mul_feat)\n",
    "    mae_lstm_mean_mul_feat = np.mean(mae_lstm_mul_feat)\n",
    "    rmse_lstm_mean_mul_feat = np.mean(rmse_lstm_mul_feat)\n",
    "    mape_lstm_mean_mul_feat = np.mean(mape_lstm_mul_feat)\n",
    "    \n",
    "    return mse_lstm_mean_mul_feat, mae_lstm_mean_mul_feat, rmse_lstm_mean_mul_feat, mape_lstm_mean_mul_feat  "
   ]
  },
  {
   "cell_type": "markdown",
   "id": "0456f303",
   "metadata": {},
   "source": [
    "## Tuning functions"
   ]
  },
  {
   "cell_type": "code",
   "execution_count": 21,
   "id": "e36c3ab9",
   "metadata": {},
   "outputs": [],
   "source": [
    "def tune_observation_window(df, cv, look_back_tuning:list):\n",
    "    '''\n",
    "    This function receives :\n",
    "    - a cross validation parameter cv (i.e number of cross validations to be performed)\n",
    "    - an observation window parameter list (i.e look_back) describing the window of observation to predict the target output.\n",
    "    '''\n",
    "    mse_lstm_final, mae_lstm_final, rmse_lstm_final, mape_lstm_final = [],[],[],[]\n",
    "    look_back_list = []\n",
    "    \n",
    "    for look_back in look_back_tuning:\n",
    "        \n",
    "        look_back_list.append(look_back)\n",
    "        \n",
    "        #Create model     \n",
    "        lstm_model = define_LSTM_model(look_back, nb_feature)\n",
    "    \n",
    "        \n",
    "        # Cross validation\n",
    "        mse_lstm_mean, mae_lstm_mean, rmse_lstm_mean,mape_lstm_mean =  cross_validate_time(lstm_model, df, cv, look_back)\n",
    "        \n",
    "        # Metrics means\n",
    "        mse_lstm_final.append(mse_lstm_mean)\n",
    "        mae_lstm_final.append(mae_lstm_mean)\n",
    "        rmse_lstm_final.append(rmse_lstm_mean)\n",
    "        mape_lstm_final.append(mape_lstm_mean)\n",
    "        \n",
    "        \n",
    "    dictionary ={\"look_back_list\":look_back_list,\n",
    "                \"mse_lstm_final\":mse_lstm_final,\n",
    "                \"mae_lstm_final\":mae_lstm_final,\n",
    "                \"rmse_lstm_final\":rmse_lstm_final,\n",
    "                \"mape_lstm_final\":mape_lstm_final}\n",
    "    \n",
    "    results_df = pd.DataFrame(dictionary, index = range(len(look_back_list)))\n",
    "    return results_df\n",
    "    "
   ]
  },
  {
   "cell_type": "markdown",
   "id": "3547fb16",
   "metadata": {},
   "source": [
    "## Correlation functions\n"
   ]
  },
  {
   "cell_type": "code",
   "execution_count": 22,
   "id": "d83a4ce3",
   "metadata": {
    "scrolled": false
   },
   "outputs": [],
   "source": [
    "def create_correlation_heatmap(dataframe: pd.DataFrame):\n",
    "    '''\n",
    "    This function receives a Pandas dataframe.\n",
    "    It returns a correlation heatmap between the columns of the input dataframe.\n",
    "    '''\n",
    "    # Heatmap of pairwise correlations\n",
    "    correlation_matrix = corr_df.corr()\n",
    "    column_names = correlation_matrix.columns\n",
    "    sns.heatmap(correlation_matrix, xticklabels=column_names, yticklabels=column_names,cmap= \"bwr\");\n",
    "    \n",
    "    "
   ]
  },
  {
   "cell_type": "code",
   "execution_count": 23,
   "id": "fa4a34ba",
   "metadata": {},
   "outputs": [],
   "source": [
    "def create_correlation_df(dataframe:pd.DataFrame) -> pd.DataFrame:\n",
    "    '''\n",
    "    This function receives a Pandas dataframe.\n",
    "    It returns a correlation dataframe between the columns of the input dataframe.\n",
    "    '''\n",
    "    #Create a dataframe listing pair correlations and absolute correlations\n",
    "    correlation_matrix = dataframe.corr()\n",
    "\n",
    "    # Converting the correlation matrix into a DataFrame\n",
    "    corr_df = correlation_matrix.stack().reset_index()\n",
    "\n",
    "    # Renaming the columns\n",
    "    corr_df.columns = ['feature_1','feature_2', 'correlation']\n",
    "\n",
    "    # Remove \"self correlations\"\n",
    "    no_self_correlation = (corr_df['feature_1'] != corr_df['feature_2'])\n",
    "    corr_df = corr_df[no_self_correlation]\n",
    "\n",
    "    corr_df['absolute_correlation'] = np.abs(corr_df['correlation'])\n",
    "\n",
    "    corr_df.sort_values(by=\"absolute_correlation\", ascending=False, inplace = True)\n",
    "    \n",
    "    return corr_df"
   ]
  },
  {
   "cell_type": "code",
   "execution_count": 24,
   "id": "6489cdf3",
   "metadata": {},
   "outputs": [],
   "source": [
    "import tensorflow as tf\n",
    "\n",
    "def pearson_corr_loss(y_true, y_pred):\n",
    "    \"\"\"\n",
    "    Computes the Pearson Correlation Coefficient loss.\n",
    "    The goal is to maximize correlation, so we return 1 - correlation.\n",
    "    \"\"\"\n",
    "    # Compute means\n",
    "    mean_true = tf.reduce_mean(y_true)\n",
    "    mean_pred = tf.reduce_mean(y_pred)\n",
    "\n",
    "    # Compute deviations from mean\n",
    "    dev_true = y_true - mean_true\n",
    "    dev_pred = y_pred - mean_pred\n",
    "\n",
    "    # Compute Pearson correlation coefficient\n",
    "    numerator = tf.reduce_sum(dev_true * dev_pred)\n",
    "    denominator = tf.sqrt(tf.reduce_sum(tf.square(dev_true))) * tf.sqrt(tf.reduce_sum(tf.square(dev_pred)))\n",
    "    \n",
    "    correlation = numerator / (denominator + 1e-6)  # Add small epsilon to avoid division by zero\n",
    "\n",
    "    # Loss should be minimized, so return 1 - correlation\n",
    "    return 1 - correlation\n"
   ]
  },
  {
   "cell_type": "markdown",
   "id": "73ccaa5a",
   "metadata": {},
   "source": [
    "## Directional accuracy functions\n"
   ]
  },
  {
   "cell_type": "code",
   "execution_count": 25,
   "id": "ce975e20",
   "metadata": {},
   "outputs": [],
   "source": [
    "def compute_directional_accuracy(df_actual, df_pred):\n",
    "    \"\"\"\n",
    "    Compute Directional Accuracy between two dataframes.\n",
    "    \n",
    "    Args:\n",
    "        df_actual (pd.DataFrame): DataFrame containing actual values with a column named 'Price'.\n",
    "        df_pred (pd.DataFrame): DataFrame containing predicted values with a column named 'Price'.\n",
    "    \n",
    "    Returns:\n",
    "        float: Directional Accuracy percentage.\n",
    "    \"\"\"\n",
    "    if df_actual.shape != df_pred.shape:\n",
    "        raise ValueError(\"DataFrames must have the same shape\")\n",
    "\n",
    "    # Compute the daily price change direction\n",
    "    actual_direction = (df_actual[\"Price\"].diff().dropna() > 0).astype(int)\n",
    "    pred_direction = (df_pred[\"Price\"].diff().dropna() > 0).astype(int)\n",
    "\n",
    "    # Compute directional accuracy\n",
    "    correct_predictions = (actual_direction == pred_direction).sum()\n",
    "    total_predictions = len(actual_direction)\n",
    "\n",
    "    directional_accuracy = (correct_predictions / total_predictions) * 100\n",
    "    return directional_accuracy"
   ]
  },
  {
   "cell_type": "markdown",
   "id": "b1e6b077",
   "metadata": {},
   "source": [
    "## Moving averages functions\n"
   ]
  },
  {
   "cell_type": "code",
   "execution_count": 26,
   "id": "74949f37",
   "metadata": {},
   "outputs": [],
   "source": [
    "def generate_simple_moving_avg(df, target, short_window, long_window):\n",
    "    '''\n",
    "    This function receives:\n",
    "    - global time series data\n",
    "    - the column on which to perform moving averages\n",
    "    - the short window on which to perform moving averages\n",
    "    - the long window on which to perform moving averages\n",
    "    \n",
    "    It returns 2 series representing the 2 computed moving averages.\n",
    "    '''\n",
    "    SMA_Short_df = df[target].rolling(window=short_window).mean()\n",
    "    SMA_Long_df = df[target].rolling(window=long_window).mean()\n",
    "    \n",
    "    return SMA_Short_df, SMA_Long_df"
   ]
  },
  {
   "cell_type": "code",
   "execution_count": 27,
   "id": "08edd4bb",
   "metadata": {
    "scrolled": false
   },
   "outputs": [],
   "source": [
    "def plot_lines_3_series(target_df: pd.Series,\n",
    "                        short_df: pd.Series,\n",
    "                        long_df:pd.Series,\n",
    "                        label=None):\n",
    "    '''\n",
    "    This function receives 3 Pandas Series\n",
    "    - It plots lineplots for each of the 3 input Series.\n",
    "    '''      \n",
    "    import matplotlib.dates as mdates\n",
    "    #Figure settings\n",
    "    fig, ax = plt.subplots(figsize=(6, 4))\n",
    "    \n",
    "    # Plotting the lineplots  \n",
    "    sns.lineplot(x=target_df.index, y=target_df.values)     \n",
    "    sns.lineplot(x=short_df.index, y=short_df.values)  \n",
    "    sns.lineplot(x=long_df.index, y=long_df.values) \n",
    "\n",
    "    # Formatting  \n",
    "    ax.set_xlabel(\"Date\")\n",
    "    ax.set_title(f'Line Plot - {label}')  \n",
    "    ax.legend([target_df.name,short_df.name,long_df.name], title=\"Legend\", loc=\"best\")\n",
    "\n",
    "    # Adjust spacing between subplots\n",
    "    plt.subplots_adjust(wspace=0.3, hspace=0.8)  # wspace (width), hspace (height)   \n",
    "   \n",
    "    ax.xaxis.set_major_locator(mdates.MonthLocator(interval=12))  # Show \n",
    "    ax.xaxis.set_major_formatter(mdates.DateFormatter('%Y-%m'))  # Format to show \n",
    "    \n",
    "    plt.grid()\n",
    "    plt.tight_layout()\n",
    "    "
   ]
  },
  {
   "cell_type": "code",
   "execution_count": 28,
   "id": "34ea7eca",
   "metadata": {},
   "outputs": [],
   "source": [
    "def get_mean_minimum_buy_prices(data, target, short_window, long_window):\n",
    "    '''\n",
    "    description\n",
    "    '''\n",
    "    #Computing moving averages  \n",
    "    data[\"SMA_Short\"], data[\"SMA_Long\"] = generate_simple_moving_avg(data, target, short_window, long_window)\n",
    "    \n",
    "    # Buy when Short MA crosses BELOW Long MA (Bearish market entry)\n",
    "    data[\"Buy_Signal\"] = (data[\"SMA_Short\"] < data[\"SMA_Long\"]) & (data[\"SMA_Short\"].shift(1) >= data[\"SMA_Long\"].shift(1))\n",
    "    \n",
    "    # Number of incursions of short MA BELOW long MA     \n",
    "    nb_incursions = data[\"Buy_Signal\"].value_counts()[1]\n",
    "    \n",
    "    # Extract Buy Prices\n",
    "    buy_prices = data.loc[df[\"Buy_Signal\"], target]\n",
    "    \n",
    "    if len(buy_prices) > 0:\n",
    "        return buy_prices.mean(), nb_incursions  # Minimize this value\n",
    "    else:\n",
    "        return np.inf  # No buy signals, discard this parameter set\n",
    "    "
   ]
  },
  {
   "cell_type": "code",
   "execution_count": 29,
   "id": "a12bd673",
   "metadata": {},
   "outputs": [],
   "source": [
    "def tune_SMA_window_lengths(data, target, short_window_list, long_window_list):\n",
    "    '''\n",
    "    This function receives:\n",
    "    - the entire time series dataset\n",
    "    - the name of the target column\n",
    "    - the list of short window lengths (for tuning purposes)\n",
    "    - the list of long window lengths (for tuning purposes)\n",
    "    \n",
    "    It returns a Pandas dataframe listing:\n",
    "    - the window pairs and associated minimum buy prices (mean) and associated incursions (i.e short SMA goes BELOW long SMA)\n",
    "    '''\n",
    "    \n",
    "    minimum_buy_prices = []\n",
    "    incursions = []\n",
    "    window_pairs = []\n",
    "    \n",
    "    # for each combination of short/long window pair, the mean buy prices and the number of incursion of short BELOW long are computed.     \n",
    "    for short in short_window_list:\n",
    "        for long in long_window_list:\n",
    "            if short < long:\n",
    "                window_pairs.append([short,long])\n",
    "                mean_buy_prices, nb_incursions = get_mean_minimum_buy_prices(data, target, short, long)\n",
    "                minimum_buy_prices.append(mean_buy_prices)\n",
    "                incursions.append(nb_incursions)\n",
    "            \n",
    "    dict = {\"window_pairs\":window_pairs,\n",
    "       \"minimum_buy_prices\":minimum_buy_prices,\n",
    "       \"incursions\":incursions}\n",
    "\n",
    "    return pd.DataFrame(dict)"
   ]
  },
  {
   "cell_type": "markdown",
   "id": "65b53b93",
   "metadata": {},
   "source": [
    "# Process\n",
    "\n"
   ]
  },
  {
   "cell_type": "markdown",
   "id": "2f18f5d9",
   "metadata": {},
   "source": [
    "## Create moving averages"
   ]
  },
  {
   "cell_type": "code",
   "execution_count": 30,
   "id": "f4c2f013",
   "metadata": {
    "scrolled": false
   },
   "outputs": [],
   "source": [
    "# %%time\n",
    "\n",
    "# # Retrieve stock data based on ticker and store it locally\n",
    "# ticker='AAPL'\n",
    "# path_ticker = f\"../data/raw_data/{ticker}.csv\"\n",
    "\n",
    "# df = load_stock_data_locally(path_ticker)\n",
    "# display(df.tail())\n",
    "\n",
    "# print(\"✅ Data has been loaded.\")\n",
    "\n",
    "# # Parameters\n",
    "# target = f\"Close_{ticker}\"\n",
    "\n",
    "# # Define moving average windows (optimized later)\n",
    "# short_window = 50   # Short-term MA\n",
    "# long_window = 200   # Long-term MA\n",
    "\n",
    "# # Compute moving averages\n",
    "# df[\"SMA_Short\"], df[\"SMA_Long\"] = generate_moving_avg(df, target, short_window, long_window)\n",
    "# print(\"✅ Two moving averages have been computed.\")\n",
    "\n",
    "# # Plot target and 2 moving averages\n",
    "# plot_lines_3_series(df[target], df[\"SMA_Short\"],df[\"SMA_Long\"])"
   ]
  },
  {
   "cell_type": "code",
   "execution_count": 31,
   "id": "0308f5af",
   "metadata": {
    "scrolled": false
   },
   "outputs": [
    {
     "data": {
      "text/html": [
       "<div>\n",
       "<style scoped>\n",
       "    .dataframe tbody tr th:only-of-type {\n",
       "        vertical-align: middle;\n",
       "    }\n",
       "\n",
       "    .dataframe tbody tr th {\n",
       "        vertical-align: top;\n",
       "    }\n",
       "\n",
       "    .dataframe thead th {\n",
       "        text-align: right;\n",
       "    }\n",
       "</style>\n",
       "<table border=\"1\" class=\"dataframe\">\n",
       "  <thead>\n",
       "    <tr style=\"text-align: right;\">\n",
       "      <th></th>\n",
       "      <th>Close_STLA</th>\n",
       "      <th>High_STLA</th>\n",
       "      <th>Low_STLA</th>\n",
       "      <th>Open_STLA</th>\n",
       "      <th>Volume_STLA</th>\n",
       "    </tr>\n",
       "    <tr>\n",
       "      <th>Date</th>\n",
       "      <th></th>\n",
       "      <th></th>\n",
       "      <th></th>\n",
       "      <th></th>\n",
       "      <th></th>\n",
       "    </tr>\n",
       "  </thead>\n",
       "  <tbody>\n",
       "    <tr>\n",
       "      <th>2025-02-11</th>\n",
       "      <td>13.0900</td>\n",
       "      <td>13.16</td>\n",
       "      <td>13.03</td>\n",
       "      <td>13.07</td>\n",
       "      <td>7787000</td>\n",
       "    </tr>\n",
       "    <tr>\n",
       "      <th>2025-02-12</th>\n",
       "      <td>13.2900</td>\n",
       "      <td>13.34</td>\n",
       "      <td>13.07</td>\n",
       "      <td>13.10</td>\n",
       "      <td>14089300</td>\n",
       "    </tr>\n",
       "    <tr>\n",
       "      <th>2025-02-13</th>\n",
       "      <td>13.5300</td>\n",
       "      <td>13.91</td>\n",
       "      <td>13.06</td>\n",
       "      <td>13.71</td>\n",
       "      <td>24495700</td>\n",
       "    </tr>\n",
       "    <tr>\n",
       "      <th>2025-02-14</th>\n",
       "      <td>14.0500</td>\n",
       "      <td>14.19</td>\n",
       "      <td>13.98</td>\n",
       "      <td>14.03</td>\n",
       "      <td>12555300</td>\n",
       "    </tr>\n",
       "    <tr>\n",
       "      <th>2025-02-18</th>\n",
       "      <td>14.1491</td>\n",
       "      <td>14.21</td>\n",
       "      <td>14.10</td>\n",
       "      <td>14.18</td>\n",
       "      <td>3830381</td>\n",
       "    </tr>\n",
       "  </tbody>\n",
       "</table>\n",
       "</div>"
      ],
      "text/plain": [
       "            Close_STLA  High_STLA  Low_STLA  Open_STLA  Volume_STLA\n",
       "Date                                                               \n",
       "2025-02-11     13.0900      13.16     13.03      13.07      7787000\n",
       "2025-02-12     13.2900      13.34     13.07      13.10     14089300\n",
       "2025-02-13     13.5300      13.91     13.06      13.71     24495700\n",
       "2025-02-14     14.0500      14.19     13.98      14.03     12555300\n",
       "2025-02-18     14.1491      14.21     14.10      14.18      3830381"
      ]
     },
     "metadata": {},
     "output_type": "display_data"
    },
    {
     "name": "stdout",
     "output_type": "stream",
     "text": [
      "✅ Data has been loaded.\n",
      "✅ Two moving averages have been computed.\n",
      "Average Buy Price using Moving Averages: $17.46\n",
      "CPU times: user 219 ms, sys: 149 ms, total: 368 ms\n",
      "Wall time: 169 ms\n"
     ]
    },
    {
     "data": {
      "image/png": "[encoded data removed]",
      "text/plain": [
       "<Figure size 600x400 with 1 Axes>"
      ]
     },
     "metadata": {},
     "output_type": "display_data"
    }
   ],
   "source": [
    "%%time\n",
    "\n",
    "# Retrieve stock data based on ticker and store it locally\n",
    "ticker='STLA'\n",
    "path_ticker = f\"../data/raw_data/{ticker}.csv\"\n",
    "\n",
    "df = load_stock_data_locally(path_ticker)\n",
    "display(df.tail())\n",
    "\n",
    "print(\"✅ Data has been loaded.\")\n",
    "\n",
    "# Parameters\n",
    "target = f\"Close_{ticker}\"\n",
    "\n",
    "# Define moving average windows (optimized later)\n",
    "short_window = 50   # Short-term MA\n",
    "long_window = 200   # Long-term MA\n",
    "\n",
    "# Compute moving averages\n",
    "df[\"SMA_Short\"], df[\"SMA_Long\"] = generate_simple_moving_avg(df, target, short_window, long_window)\n",
    "print(\"✅ Two moving averages have been computed.\")\n",
    "\n",
    "# Plot target and 2 moving averages\n",
    "plot_lines_3_series(df[target], df[\"SMA_Short\"],df[\"SMA_Long\"])\n",
    "\n",
    "# Identify buy signals (Short SMA crosses BELOW Long SMA)\n",
    "df[\"Buy_Signal\"] = (df[\"SMA_Short\"] < df[\"SMA_Long\"]) & (df[\"SMA_Short\"].shift(1) >= df[\"SMA_Long\"].shift(1))\n",
    "\n",
    "# Extract Buy Prices\n",
    "buy_prices = df.loc[df[\"Buy_Signal\"], target]\n",
    "avg_buy_price = buy_prices.mean()\n",
    "\n",
    "print(f\"Average Buy Price using Moving Averages: ${avg_buy_price:.2f}\")\n"
   ]
  },
  {
   "cell_type": "markdown",
   "id": "8c340cff",
   "metadata": {},
   "source": [
    "## Tune moving average windows to minimize the average buy prices"
   ]
  },
  {
   "cell_type": "code",
   "execution_count": 32,
   "id": "1848b247",
   "metadata": {},
   "outputs": [
    {
     "data": {
      "text/html": [
       "<div>\n",
       "<style scoped>\n",
       "    .dataframe tbody tr th:only-of-type {\n",
       "        vertical-align: middle;\n",
       "    }\n",
       "\n",
       "    .dataframe tbody tr th {\n",
       "        vertical-align: top;\n",
       "    }\n",
       "\n",
       "    .dataframe thead th {\n",
       "        text-align: right;\n",
       "    }\n",
       "</style>\n",
       "<table border=\"1\" class=\"dataframe\">\n",
       "  <thead>\n",
       "    <tr style=\"text-align: right;\">\n",
       "      <th></th>\n",
       "      <th>window_pairs</th>\n",
       "      <th>minimum_buy_prices</th>\n",
       "      <th>incursions</th>\n",
       "    </tr>\n",
       "  </thead>\n",
       "  <tbody>\n",
       "    <tr>\n",
       "      <th>0</th>\n",
       "      <td>[5, 10]</td>\n",
       "      <td>13.801534</td>\n",
       "      <td>67</td>\n",
       "    </tr>\n",
       "    <tr>\n",
       "      <th>1</th>\n",
       "      <td>[5, 20]</td>\n",
       "      <td>14.213748</td>\n",
       "      <td>35</td>\n",
       "    </tr>\n",
       "    <tr>\n",
       "      <th>2</th>\n",
       "      <td>[5, 30]</td>\n",
       "      <td>14.469867</td>\n",
       "      <td>24</td>\n",
       "    </tr>\n",
       "    <tr>\n",
       "      <th>3</th>\n",
       "      <td>[5, 40]</td>\n",
       "      <td>15.099909</td>\n",
       "      <td>19</td>\n",
       "    </tr>\n",
       "    <tr>\n",
       "      <th>4</th>\n",
       "      <td>[5, 50]</td>\n",
       "      <td>15.220017</td>\n",
       "      <td>20</td>\n",
       "    </tr>\n",
       "    <tr>\n",
       "      <th>5</th>\n",
       "      <td>[10, 20]</td>\n",
       "      <td>14.484100</td>\n",
       "      <td>29</td>\n",
       "    </tr>\n",
       "    <tr>\n",
       "      <th>6</th>\n",
       "      <td>[10, 30]</td>\n",
       "      <td>14.236857</td>\n",
       "      <td>21</td>\n",
       "    </tr>\n",
       "    <tr>\n",
       "      <th>7</th>\n",
       "      <td>[10, 40]</td>\n",
       "      <td>15.222963</td>\n",
       "      <td>17</td>\n",
       "    </tr>\n",
       "    <tr>\n",
       "      <th>8</th>\n",
       "      <td>[10, 50]</td>\n",
       "      <td>15.153347</td>\n",
       "      <td>15</td>\n",
       "    </tr>\n",
       "    <tr>\n",
       "      <th>9</th>\n",
       "      <td>[20, 30]</td>\n",
       "      <td>14.891699</td>\n",
       "      <td>23</td>\n",
       "    </tr>\n",
       "    <tr>\n",
       "      <th>10</th>\n",
       "      <td>[20, 40]</td>\n",
       "      <td>15.131111</td>\n",
       "      <td>16</td>\n",
       "    </tr>\n",
       "    <tr>\n",
       "      <th>11</th>\n",
       "      <td>[20, 50]</td>\n",
       "      <td>15.993141</td>\n",
       "      <td>12</td>\n",
       "    </tr>\n",
       "  </tbody>\n",
       "</table>\n",
       "</div>"
      ],
      "text/plain": [
       "   window_pairs  minimum_buy_prices  incursions\n",
       "0       [5, 10]           13.801534          67\n",
       "1       [5, 20]           14.213748          35\n",
       "2       [5, 30]           14.469867          24\n",
       "3       [5, 40]           15.099909          19\n",
       "4       [5, 50]           15.220017          20\n",
       "5      [10, 20]           14.484100          29\n",
       "6      [10, 30]           14.236857          21\n",
       "7      [10, 40]           15.222963          17\n",
       "8      [10, 50]           15.153347          15\n",
       "9      [20, 30]           14.891699          23\n",
       "10     [20, 40]           15.131111          16\n",
       "11     [20, 50]           15.993141          12"
      ]
     },
     "metadata": {},
     "output_type": "display_data"
    }
   ],
   "source": [
    "# Tuning phase\n",
    "short_window_list = [5,10,20]   # Short-term MA\n",
    "long_window_list = [10,20,30,40,50]   # Long-term MA\n",
    "result = tune_SMA_window_lengths(df, target, short_window_list, long_window_list)\n",
    "display(result)"
   ]
  },
  {
   "cell_type": "code",
   "execution_count": 39,
   "id": "dc2ccfb3",
   "metadata": {},
   "outputs": [],
   "source": [
    "last_values = 20"
   ]
  },
  {
   "cell_type": "code",
   "execution_count": 40,
   "id": "008fc831",
   "metadata": {
    "scrolled": false
   },
   "outputs": [
    {
     "data": {
      "text/html": [
       "<div>\n",
       "<style scoped>\n",
       "    .dataframe tbody tr th:only-of-type {\n",
       "        vertical-align: middle;\n",
       "    }\n",
       "\n",
       "    .dataframe tbody tr th {\n",
       "        vertical-align: top;\n",
       "    }\n",
       "\n",
       "    .dataframe thead th {\n",
       "        text-align: right;\n",
       "    }\n",
       "</style>\n",
       "<table border=\"1\" class=\"dataframe\">\n",
       "  <thead>\n",
       "    <tr style=\"text-align: right;\">\n",
       "      <th></th>\n",
       "      <th>window_pairs</th>\n",
       "      <th>minimum_buy_prices</th>\n",
       "      <th>incursions</th>\n",
       "    </tr>\n",
       "  </thead>\n",
       "  <tbody>\n",
       "    <tr>\n",
       "      <th>0</th>\n",
       "      <td>[5, 10]</td>\n",
       "      <td>13.801534</td>\n",
       "      <td>67</td>\n",
       "    </tr>\n",
       "    <tr>\n",
       "      <th>1</th>\n",
       "      <td>[5, 20]</td>\n",
       "      <td>14.213748</td>\n",
       "      <td>35</td>\n",
       "    </tr>\n",
       "  </tbody>\n",
       "</table>\n",
       "</div>"
      ],
      "text/plain": [
       "  window_pairs  minimum_buy_prices  incursions\n",
       "0      [5, 10]           13.801534          67\n",
       "1      [5, 20]           14.213748          35"
      ]
     },
     "metadata": {},
     "output_type": "display_data"
    },
    {
     "data": {
      "image/png": "[encoded data removed]",
      "text/plain": [
       "<Figure size 600x400 with 1 Axes>"
      ]
     },
     "metadata": {},
     "output_type": "display_data"
    },
    {
     "data": {
      "image/png": "[encoded data removed]",
      "text/plain": [
       "<Figure size 600x400 with 1 Axes>"
      ]
     },
     "metadata": {},
     "output_type": "display_data"
    }
   ],
   "source": [
    "# Sort by minimum_buy_prices\n",
    "result = result.sort_values(by='minimum_buy_prices', ascending=True)\n",
    "display(result.head(2))\n",
    "\n",
    "for pair in result.head(2).window_pairs.values:\n",
    "    df[\"SMA_Short\"], df[\"SMA_Long\"]= generate_simple_moving_avg(df, target, pair[0], pair[1])\n",
    "    plot_lines_3_series(df[target][-last_values:], df[\"SMA_Short\"][-last_values:],df[\"SMA_Long\"][-last_values:],label=pair)\n",
    "    "
   ]
  },
  {
   "cell_type": "code",
   "execution_count": 41,
   "id": "0984929e",
   "metadata": {
    "scrolled": false
   },
   "outputs": [
    {
     "data": {
      "text/html": [
       "<div>\n",
       "<style scoped>\n",
       "    .dataframe tbody tr th:only-of-type {\n",
       "        vertical-align: middle;\n",
       "    }\n",
       "\n",
       "    .dataframe tbody tr th {\n",
       "        vertical-align: top;\n",
       "    }\n",
       "\n",
       "    .dataframe thead th {\n",
       "        text-align: right;\n",
       "    }\n",
       "</style>\n",
       "<table border=\"1\" class=\"dataframe\">\n",
       "  <thead>\n",
       "    <tr style=\"text-align: right;\">\n",
       "      <th></th>\n",
       "      <th>window_pairs</th>\n",
       "      <th>minimum_buy_prices</th>\n",
       "      <th>incursions</th>\n",
       "    </tr>\n",
       "  </thead>\n",
       "  <tbody>\n",
       "    <tr>\n",
       "      <th>0</th>\n",
       "      <td>[5, 10]</td>\n",
       "      <td>13.801534</td>\n",
       "      <td>67</td>\n",
       "    </tr>\n",
       "    <tr>\n",
       "      <th>1</th>\n",
       "      <td>[5, 20]</td>\n",
       "      <td>14.213748</td>\n",
       "      <td>35</td>\n",
       "    </tr>\n",
       "  </tbody>\n",
       "</table>\n",
       "</div>"
      ],
      "text/plain": [
       "  window_pairs  minimum_buy_prices  incursions\n",
       "0      [5, 10]           13.801534          67\n",
       "1      [5, 20]           14.213748          35"
      ]
     },
     "metadata": {},
     "output_type": "display_data"
    },
    {
     "data": {
      "image/png": "[encoded data removed]",
      "text/plain": [
       "<Figure size 600x400 with 1 Axes>"
      ]
     },
     "metadata": {},
     "output_type": "display_data"
    },
    {
     "data": {
      "image/png": "[encoded data removed]",
      "text/plain": [
       "<Figure size 600x400 with 1 Axes>"
      ]
     },
     "metadata": {},
     "output_type": "display_data"
    }
   ],
   "source": [
    "# Sort by minimum_buy_prices\n",
    "result = result.sort_values(by='incursions', ascending=False)\n",
    "display(result.head(2))\n",
    "\n",
    "for pair in result.head(2).window_pairs.values:\n",
    "    df[\"SMA_Short\"], df[\"SMA_Long\"]= generate_simple_moving_avg(df, target, pair[0], pair[1])\n",
    "    plot_lines_3_series(df[target][-last_values:], df[\"SMA_Short\"][-last_values:],df[\"SMA_Long\"][-last_values:],label=pair)\n",
    "    "
   ]
  }
 ],
 "metadata": {
  "kernelspec": {
   "display_name": "Python 3 (ipykernel)",
   "language": "python",
   "name": "python3"
  },
  "language_info": {
   "codemirror_mode": {
    "name": "ipython",
    "version": 3
   },
   "file_extension": ".py",
   "mimetype": "text/x-python",
   "name": "python",
   "nbconvert_exporter": "python",
   "pygments_lexer": "ipython3",
   "version": "3.10.6"
  },
  "toc": {
   "base_numbering": 1,
   "nav_menu": {},
   "number_sections": true,
   "sideBar": true,
   "skip_h1_title": false,
   "title_cell": "Table of Contents",
   "title_sidebar": "Contents",
   "toc_cell": false,
   "toc_position": {
    "height": "calc(100% - 180px)",
    "left": "10px",
    "top": "150px",
    "width": "307.188px"
   },
   "toc_section_display": true,
   "toc_window_display": true
  },
  "varInspector": {
   "cols": {
    "lenName": 16,
    "lenType": 16,
    "lenVar": 40
   },
   "kernels_config": {
    "python": {
     "delete_cmd_postfix": "",
     "delete_cmd_prefix": "del ",
     "library": "var_list.py",
     "varRefreshCmd": "print(var_dic_list())"
    },
    "r": {
     "delete_cmd_postfix": ") ",
     "delete_cmd_prefix": "rm(",
     "library": "var_list.r",
     "varRefreshCmd": "cat(var_dic_list()) "
    }
   },
   "types_to_exclude": [
    "module",
    "function",
    "builtin_function_or_method",
    "instance",
    "_Feature"
   ],
   "window_display": false
  }
 },
 "nbformat": 4,
 "nbformat_minor": 5
}
